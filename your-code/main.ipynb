{
 "cells": [
  {
   "cell_type": "markdown",
   "metadata": {},
   "source": [
    "# Web Scraping Lab\n",
    "\n",
    "You will find in this notebook some scrapy exercises to practise your scraping skills.\n",
    "\n",
    "**Tips:**\n",
    "\n",
    "- Check the response status code for each request to ensure you have obtained the intended contennt.\n",
    "- Print the response text in each request to understand the kind of info you are getting and its format.\n",
    "- Check for patterns in the response text to extract the data/info requested in each question.\n",
    "- Visit each url and take a look at its source through Chrome DevTools. You'll need to identify the html tags, special class names etc. used for the html content you are expected to extract."
   ]
  },
  {
   "cell_type": "markdown",
   "metadata": {},
   "source": [
    "- [Requests library](http://docs.python-requests.org/en/master/#the-user-guide) documentation \n",
    "- [Beautiful Soup Doc](https://www.crummy.com/software/BeautifulSoup/bs4/doc/)\n",
    "- [Urllib](https://docs.python.org/3/library/urllib.html#module-urllib)\n",
    "- [re lib](https://docs.python.org/3/library/re.html)\n",
    "- [lxml lib](https://lxml.de/)\n",
    "- [Scrapy](https://scrapy.org/)\n",
    "- [List of HTTP status codes](https://en.wikipedia.org/wiki/List_of_HTTP_status_codes)\n",
    "- [HTML basics](http://www.simplehtmlguide.com/cheatsheet.php)\n",
    "- [CSS basics](https://www.cssbasics.com/#page_start)"
   ]
  },
  {
   "cell_type": "markdown",
   "metadata": {},
   "source": [
    "#### Below are the libraries and modules you may need. `requests`,  `BeautifulSoup` and `pandas` are imported for you. If you prefer to use additional libraries feel free to uncomment them.\n",
    "A continuación se encuentran las bibliotecas y módulos que puede necesitar. `requests`, `BeautifulSoup` y `pandas` se importan para usted. Si prefiere usar bibliotecas adicionales, no dude en descomentarlas."
   ]
  },
  {
   "cell_type": "code",
   "execution_count": 1,
   "metadata": {},
   "outputs": [
    {
     "name": "stdout",
     "output_type": "stream",
     "text": [
      "Requirement already satisfied: beautifulsoup4 in /home/sergiomess/anaconda3/lib/python3.8/site-packages (4.9.3)\n",
      "Requirement already satisfied: soupsieve>1.2; python_version >= \"3.0\" in /home/sergiomess/anaconda3/lib/python3.8/site-packages (from beautifulsoup4) (2.0.1)\n",
      "Note: you may need to restart the kernel to use updated packages.\n",
      "Requirement already satisfied: scrapy in /home/sergiomess/anaconda3/lib/python3.8/site-packages (2.6.1)\n",
      "Requirement already satisfied: PyDispatcher>=2.0.5; platform_python_implementation == \"CPython\" in /home/sergiomess/anaconda3/lib/python3.8/site-packages (from scrapy) (2.0.5)\n",
      "Requirement already satisfied: protego>=0.1.15 in /home/sergiomess/anaconda3/lib/python3.8/site-packages (from scrapy) (0.2.1)\n",
      "Requirement already satisfied: tldextract in /home/sergiomess/anaconda3/lib/python3.8/site-packages (from scrapy) (3.2.1)\n",
      "Requirement already satisfied: setuptools in /home/sergiomess/anaconda3/lib/python3.8/site-packages (from scrapy) (50.3.1.post20201107)\n",
      "Requirement already satisfied: itemadapter>=0.1.0 in /home/sergiomess/anaconda3/lib/python3.8/site-packages (from scrapy) (0.5.0)\n",
      "Requirement already satisfied: cryptography>=2.0 in /home/sergiomess/anaconda3/lib/python3.8/site-packages (from scrapy) (3.1.1)\n",
      "Requirement already satisfied: w3lib>=1.17.0 in /home/sergiomess/anaconda3/lib/python3.8/site-packages (from scrapy) (1.22.0)\n",
      "Requirement already satisfied: zope.interface>=4.1.3 in /home/sergiomess/anaconda3/lib/python3.8/site-packages (from scrapy) (5.1.2)\n",
      "Requirement already satisfied: lxml>=3.5.0; platform_python_implementation == \"CPython\" in /home/sergiomess/anaconda3/lib/python3.8/site-packages (from scrapy) (4.6.1)\n",
      "Requirement already satisfied: parsel>=1.5.0 in /home/sergiomess/anaconda3/lib/python3.8/site-packages (from scrapy) (1.6.0)\n",
      "Requirement already satisfied: queuelib>=1.4.2 in /home/sergiomess/anaconda3/lib/python3.8/site-packages (from scrapy) (1.6.2)\n",
      "Requirement already satisfied: itemloaders>=1.0.1 in /home/sergiomess/anaconda3/lib/python3.8/site-packages (from scrapy) (1.0.4)\n",
      "Requirement already satisfied: pyOpenSSL>=16.2.0 in /home/sergiomess/anaconda3/lib/python3.8/site-packages (from scrapy) (19.1.0)\n",
      "Requirement already satisfied: cssselect>=0.9.1 in /home/sergiomess/anaconda3/lib/python3.8/site-packages (from scrapy) (1.1.0)\n",
      "Requirement already satisfied: Twisted>=17.9.0 in /home/sergiomess/anaconda3/lib/python3.8/site-packages (from scrapy) (22.4.0)\n",
      "Requirement already satisfied: service-identity>=16.0.0 in /home/sergiomess/anaconda3/lib/python3.8/site-packages (from scrapy) (21.1.0)\n",
      "Requirement already satisfied: six in /home/sergiomess/anaconda3/lib/python3.8/site-packages (from protego>=0.1.15->scrapy) (1.15.0)\n",
      "Requirement already satisfied: idna in /home/sergiomess/anaconda3/lib/python3.8/site-packages (from tldextract->scrapy) (2.10)\n",
      "Requirement already satisfied: requests>=2.1.0 in /home/sergiomess/anaconda3/lib/python3.8/site-packages (from tldextract->scrapy) (2.24.0)\n",
      "Requirement already satisfied: requests-file>=1.4 in /home/sergiomess/anaconda3/lib/python3.8/site-packages (from tldextract->scrapy) (1.5.1)\n",
      "Requirement already satisfied: filelock>=3.0.8 in /home/sergiomess/anaconda3/lib/python3.8/site-packages (from tldextract->scrapy) (3.0.12)\n",
      "Requirement already satisfied: cffi!=1.11.3,>=1.8 in /home/sergiomess/anaconda3/lib/python3.8/site-packages (from cryptography>=2.0->scrapy) (1.14.3)\n",
      "Requirement already satisfied: jmespath>=0.9.5 in /home/sergiomess/anaconda3/lib/python3.8/site-packages (from itemloaders>=1.0.1->scrapy) (1.0.0)\n",
      "Requirement already satisfied: attrs>=19.2.0 in /home/sergiomess/anaconda3/lib/python3.8/site-packages (from Twisted>=17.9.0->scrapy) (20.3.0)\n",
      "Requirement already satisfied: typing-extensions>=3.6.5 in /home/sergiomess/anaconda3/lib/python3.8/site-packages (from Twisted>=17.9.0->scrapy) (3.7.4.3)\n",
      "Requirement already satisfied: Automat>=0.8.0 in /home/sergiomess/anaconda3/lib/python3.8/site-packages (from Twisted>=17.9.0->scrapy) (20.2.0)\n",
      "Requirement already satisfied: constantly>=15.1 in /home/sergiomess/anaconda3/lib/python3.8/site-packages (from Twisted>=17.9.0->scrapy) (15.1.0)\n",
      "Requirement already satisfied: hyperlink>=17.1.1 in /home/sergiomess/anaconda3/lib/python3.8/site-packages (from Twisted>=17.9.0->scrapy) (21.0.0)\n",
      "Requirement already satisfied: incremental>=21.3.0 in /home/sergiomess/anaconda3/lib/python3.8/site-packages (from Twisted>=17.9.0->scrapy) (21.3.0)\n",
      "Requirement already satisfied: pyasn1-modules in /home/sergiomess/anaconda3/lib/python3.8/site-packages (from service-identity>=16.0.0->scrapy) (0.2.8)\n",
      "Requirement already satisfied: pyasn1 in /home/sergiomess/anaconda3/lib/python3.8/site-packages (from service-identity>=16.0.0->scrapy) (0.4.8)\n",
      "Requirement already satisfied: certifi>=2017.4.17 in /home/sergiomess/anaconda3/lib/python3.8/site-packages (from requests>=2.1.0->tldextract->scrapy) (2020.6.20)\n",
      "Requirement already satisfied: chardet<4,>=3.0.2 in /home/sergiomess/anaconda3/lib/python3.8/site-packages (from requests>=2.1.0->tldextract->scrapy) (3.0.4)\n",
      "Requirement already satisfied: urllib3!=1.25.0,!=1.25.1,<1.26,>=1.21.1 in /home/sergiomess/anaconda3/lib/python3.8/site-packages (from requests>=2.1.0->tldextract->scrapy) (1.25.11)\n",
      "Requirement already satisfied: pycparser in /home/sergiomess/anaconda3/lib/python3.8/site-packages (from cffi!=1.11.3,>=1.8->cryptography>=2.0->scrapy) (2.20)\n"
     ]
    }
   ],
   "source": [
    "%pip install beautifulsoup4\n",
    "!pip install scrapy\n"
   ]
  },
  {
   "cell_type": "code",
   "execution_count": 2,
   "metadata": {},
   "outputs": [],
   "source": [
    "import requests\n",
    "from bs4 import BeautifulSoup as bs\n",
    "import pandas as pd\n",
    "from pprint import pprint\n",
    "from lxml import html\n",
    "from lxml.html import fromstring\n",
    "import urllib.request\n",
    "from urllib.request import urlopen\n",
    "import random\n",
    "import re\n",
    "import scrapy\n",
    "import requests as req"
   ]
  },
  {
   "cell_type": "markdown",
   "metadata": {},
   "source": [
    "#### 1.Download, parse (using BeautifulSoup), and print the content from the Trending Developers page from GitHub:\n",
    "\n"
   ]
  },
  {
   "cell_type": "code",
   "execution_count": 65,
   "metadata": {},
   "outputs": [
    {
     "data": {
      "text/plain": [
       "b'\\n\\n<!DOCTYPE html>\\n<html lang=\"en\" data-color-mode=\"auto\" data-light-theme=\"light\" data-dark-theme=\"dark\" >\\n  <head>\\n    <meta charset=\"utf-8\">\\n  <link rel=\"dns-prefetch\" href=\"https://github.githubassets.com\">\\n  <link rel=\"dns-prefetch\" href=\"https://avatars.githubusercontent.com\">\\n  <link rel=\"dns-prefetch\" href=\"https://github-cloud.s3.amazonaws.com\">\\n  <link rel=\"dns-prefetch\" href=\"https://user-images.githubusercontent.com/\">\\n  <link rel=\"preconnect\" href=\"https://github.githubassets.com\" crossorigin>\\n  <link rel=\"preconnect\" href=\"https://avatars.githubusercontent.com\">\\n\\n\\n\\n  <link crossorigin=\"anonymous\" media=\"all\" integrity=\"sha512-ksfTgQOOnE+FFXf+yNfVjKSlEckJAdufFIYGK7ZjRhWcZgzAGcmZqqArTgMLpu90FwthqcCX4ldDgKXbmVMeuQ==\" rel=\"stylesheet\" href=\"https://github.githubassets.com/assets/light-92c7d381038e.css\" /><link crossorigin=\"anonymous\" media=\"all\" integrity=\"sha512-1KkMNn8M/al/dtzBLupRwkIOgnA9MWkm8oxS+solP87jByEvY/g4BmoxLihRogKcX1obPnf4Yp7dI0ZTWO+ljg==\" rel=\"stylesheet\" href=\"ht'"
      ]
     },
     "execution_count": 65,
     "metadata": {},
     "output_type": "execute_result"
    }
   ],
   "source": [
    "# This is the url you will scrape in this exercise\n",
    "url = 'https://github.com/trending/developers'\n",
    "html=req.get(url).content\n",
    "html[:1000]"
   ]
  },
  {
   "cell_type": "code",
   "execution_count": 66,
   "metadata": {},
   "outputs": [
    {
     "data": {
      "text/plain": [
       "[<h1 class=\"h3 lh-condensed\">\n",
       " <a data-hydro-click='{\"event_type\":\"explore.click\",\"payload\":{\"click_context\":\"TRENDING_DEVELOPERS_PAGE\",\"click_target\":\"OWNER\",\"click_visual_representation\":\"TRENDING_DEVELOPER\",\"actor_id\":null,\"record_id\":1478487,\"originating_url\":\"https://github.com/trending/developers\",\"user_id\":null}}' data-hydro-click-hmac=\"2da9a878544fc4f6f76b28b2e1b71ee2cbf29b8dac7b24634c0334b3313bb4f9\" data-view-component=\"true\" href=\"/marten-seemann\">\n",
       "   \n",
       "             Marten Seemann\n",
       " \n",
       "   \n",
       " </a> </h1>,\n",
       " <h1 class=\"h3 lh-condensed\">\n",
       " <a data-hydro-click='{\"event_type\":\"explore.click\",\"payload\":{\"click_context\":\"TRENDING_DEVELOPERS_PAGE\",\"click_target\":\"OWNER\",\"click_visual_representation\":\"TRENDING_DEVELOPER\",\"actor_id\":null,\"record_id\":715491,\"originating_url\":\"https://github.com/trending/developers\",\"user_id\":null}}' data-hydro-click-hmac=\"19ff680f2b96197cb7e75fadbf70ffbf92ce71b7a0d22bffd940484cc7d0cab8\" data-view-component=\"true\" href=\"/borisdayma\">\n",
       "   \n",
       "             Boris Dayma\n",
       " \n",
       "   \n",
       " </a> </h1>]"
      ]
     },
     "execution_count": 66,
     "metadata": {},
     "output_type": "execute_result"
    }
   ],
   "source": [
    "#your code\n",
    "soup=bs(html, 'html.parser')\n",
    "a=soup.find_all('h1',{'class':'h3 lh-condensed' })    \n",
    "a[0:2]\n"
   ]
  },
  {
   "cell_type": "code",
   "execution_count": 67,
   "metadata": {},
   "outputs": [
    {
     "data": {
      "text/plain": [
       "['Marten Seemann',\n",
       " 'Boris Dayma',\n",
       " 'Amruth Pillai',\n",
       " 'Ariel Mashraki',\n",
       " 'Álvaro',\n",
       " \"Bruno D'Luka\",\n",
       " 'Yoni Goldberg',\n",
       " 'Adrian Wälchli',\n",
       " 'Yair Morgenstern',\n",
       " 'Florian Roth',\n",
       " 'Oleg Grenrus',\n",
       " 'François Chollet',\n",
       " 'Stefan Prodan',\n",
       " 'David Sherret',\n",
       " 'Franco Victorio',\n",
       " 'Michael Shilman',\n",
       " 'Olivier Halligon',\n",
       " 'Tim Arney',\n",
       " '@greweb',\n",
       " 'Waleed Khan',\n",
       " 'dan',\n",
       " 'Nathan Shively-Sanders',\n",
       " 'Brian Coca',\n",
       " 'Robin Cole',\n",
       " 'steveoh']"
      ]
     },
     "execution_count": 67,
     "metadata": {},
     "output_type": "execute_result"
    }
   ],
   "source": [
    "nombres= []\n",
    "for i in a:\n",
    "    em=i.text.strip()\n",
    "    nombres.append(em)\n",
    "    \n",
    "nombres"
   ]
  },
  {
   "cell_type": "markdown",
   "metadata": {},
   "source": [
    "#### 2. Display the names of the trending developers retrieved in the previous step.\n",
    "\n",
    "Your output should be a Python list of developer names. Each name should not contain any html tag.\n",
    "\n",
    "**Instructions:**\n",
    "\n",
    "1. Find out the html tag and class names used for the developer names. You can achieve this using Chrome DevTools.\n",
    "\n",
    "1. Use BeautifulSoup to extract all the html elements that contain the developer names.\n",
    "\n",
    "1. Use string manipulation techniques to replace whitespaces and linebreaks (i.e. `\\n`) in the *text* of each html element. Use a list to store the clean names.\n",
    "\n",
    "1. Print the list of names.\n",
    "\n",
    "Your output should look like below:\n",
    "\n",
    "```\n",
    "['trimstray (@trimstray)',\n",
    " 'joewalnes (JoeWalnes)',\n",
    " 'charlax (Charles-AxelDein)',\n",
    " 'ForrestKnight (ForrestKnight)',\n",
    " 'revery-ui (revery-ui)',\n",
    " 'alibaba (Alibaba)',\n",
    " 'Microsoft (Microsoft)',\n",
    " 'github (GitHub)',\n",
    " 'facebook (Facebook)',\n",
    " 'boazsegev (Bo)',\n",
    " 'google (Google)',\n",
    " 'cloudfetch',\n",
    " 'sindresorhus (SindreSorhus)',\n",
    " 'tensorflow',\n",
    " 'apache (TheApacheSoftwareFoundation)',\n",
    " 'DevonCrawford (DevonCrawford)',\n",
    " 'ARMmbed (ArmMbed)',\n",
    " 'vuejs (vuejs)',\n",
    " 'fastai (fast.ai)',\n",
    " 'QiShaoXuan (Qi)',\n",
    " 'joelparkerhenderson (JoelParkerHenderson)',\n",
    " 'torvalds (LinusTorvalds)',\n",
    " 'CyC2018',\n",
    " 'komeiji-satori (神楽坂覚々)',\n",
    " 'script-8']\n",
    " ```"
   ]
  },
  {
   "cell_type": "code",
   "execution_count": 7,
   "metadata": {},
   "outputs": [],
   "source": [
    "#your code\n",
    "html_a=req.get(url).content\n",
    "html_b=bs(html_a, 'html.parser')"
   ]
  },
  {
   "cell_type": "code",
   "execution_count": 8,
   "metadata": {},
   "outputs": [
    {
     "data": {
      "text/plain": [
       "['Marten Seemann',\n",
       " 'Boris Dayma',\n",
       " 'Amruth Pillai',\n",
       " 'Ariel Mashraki',\n",
       " 'Álvaro',\n",
       " \"Bruno D'Luka\",\n",
       " 'Yoni Goldberg',\n",
       " 'Adrian Wälchli',\n",
       " 'Yair Morgenstern',\n",
       " 'Florian Roth',\n",
       " 'Oleg Grenrus',\n",
       " 'François Chollet',\n",
       " 'Stefan Prodan',\n",
       " 'David Sherret',\n",
       " 'Franco Victorio',\n",
       " 'Michael Shilman',\n",
       " 'Olivier Halligon',\n",
       " 'Tim Arney',\n",
       " '@greweb',\n",
       " 'Waleed Khan',\n",
       " 'dan',\n",
       " 'Nathan Shively-Sanders',\n",
       " 'Brian Coca',\n",
       " 'Robin Cole',\n",
       " 'steveoh']"
      ]
     },
     "execution_count": 8,
     "metadata": {},
     "output_type": "execute_result"
    }
   ],
   "source": [
    "nombres= []\n",
    "for i in a:\n",
    "    em=i.text.strip()\n",
    "    nombres.append(em)"
   ]
  },
  {
   "cell_type": "markdown",
   "metadata": {},
   "source": [
    "#### 3.Display the trending Python repositories in GitHub\n",
    "\n",
    "The steps to solve this problem is similar to the previous one except that you need to find out the repository names instead of developer names."
   ]
  },
  {
   "cell_type": "code",
   "execution_count": 176,
   "metadata": {},
   "outputs": [],
   "source": [
    "# This is the url you will scrape in this exercise\n",
    "url = 'https://github.com/trending/python?since=daily'"
   ]
  },
  {
   "cell_type": "code",
   "execution_count": 190,
   "metadata": {},
   "outputs": [],
   "source": [
    "#your code\n",
    "html=req.get(url).content \n",
    "soup=bs(html, 'html.parser')\n",
    "repositorios=soup.find_all('div',{'class':'position-relative container-lg p-responsive pt-6'})\n"
   ]
  },
  {
   "cell_type": "markdown",
   "metadata": {},
   "source": [
    "#### 4.Display all the image links from Walt Disney wikipedia page"
   ]
  },
  {
   "cell_type": "code",
   "execution_count": 187,
   "metadata": {},
   "outputs": [],
   "source": [
    "# This is the url you will scrape in this exercise\n",
    "url = 'https://en.wikipedia.org/wiki/Walt_Disney'"
   ]
  },
  {
   "cell_type": "code",
   "execution_count": 188,
   "metadata": {},
   "outputs": [],
   "source": [
    "#your code\n",
    "html=req.get(url).content \n",
    "soup=bs(html, 'html.parser')\n",
    "contenedores=soup.find_all('a',{'class':'image'})\n",
    "\n",
    "listadisney=[]\n",
    "for e in contenedores:\n",
    "    e.attrs[\"href\"]\n",
    "    listadisney.append(e.attrs)"
   ]
  },
  {
   "cell_type": "code",
   "execution_count": 189,
   "metadata": {},
   "outputs": [
    {
     "data": {
      "text/plain": [
       "[{'href': '/wiki/File:Walt_Disney_1946.JPG', 'class': ['image']},\n",
       " {'href': '/wiki/File:Walt_Disney_1942_signature.svg', 'class': ['image']},\n",
       " {'href': '/wiki/File:Walt_Disney_envelope_ca._1921.jpg', 'class': ['image']},\n",
       " {'href': '/wiki/File:Trolley_Troubles_poster.jpg', 'class': ['image']},\n",
       " {'href': '/wiki/File:Steamboat-willie.jpg', 'class': ['image']},\n",
       " {'href': '/wiki/File:Walt_Disney_1935.jpg', 'class': ['image']},\n",
       " {'href': '/wiki/File:Walt_Disney_Snow_white_1937_trailer_screenshot_(13).jpg',\n",
       "  'class': ['image']},\n",
       " {'href': '/wiki/File:Disney_drawing_goofy.jpg', 'class': ['image']},\n",
       " {'href': '/wiki/File:DisneySchiphol1951.jpg', 'class': ['image']},\n",
       " {'href': '/wiki/File:WaltDisneyplansDisneylandDec1954.jpg',\n",
       "  'class': ['image']},\n",
       " {'href': '/wiki/File:Walt_disney_portrait_right.jpg', 'class': ['image']},\n",
       " {'href': '/wiki/File:Walt_Disney_Grave.JPG', 'class': ['image']},\n",
       " {'href': '/wiki/File:Roy_O._Disney_with_Company_at_Press_Conference.jpg',\n",
       "  'class': ['image']},\n",
       " {'href': '/wiki/File:Disney_Oscar_1953_(cropped).jpg', 'class': ['image']},\n",
       " {'href': '/wiki/File:Disney1968.jpg', 'class': ['image']},\n",
       " {'href': '/wiki/File:Disneyland_Resort_logo.svg', 'class': ['image']},\n",
       " {'href': '/wiki/File:Animation_disc.svg', 'class': ['image']},\n",
       " {'href': '/wiki/File:P_vip.svg', 'class': ['image']},\n",
       " {'href': '/wiki/File:Magic_Kingdom_castle.jpg', 'class': ['image']},\n",
       " {'href': '/wiki/File:Video-x-generic.svg', 'class': ['image']},\n",
       " {'href': '/wiki/File:Flag_of_Los_Angeles_County,_California.svg',\n",
       "  'class': ['image']},\n",
       " {'href': '/wiki/File:Blank_television_set.svg', 'class': ['image']},\n",
       " {'href': '/wiki/File:Flag_of_the_United_States.svg', 'class': ['image']}]"
      ]
     },
     "execution_count": 189,
     "metadata": {},
     "output_type": "execute_result"
    }
   ],
   "source": [
    "listadisney"
   ]
  },
  {
   "cell_type": "markdown",
   "metadata": {},
   "source": [
    "#### 5.Retrieve an arbitary Wikipedia page of \"Python\" and create a list of links on that page"
   ]
  },
  {
   "cell_type": "code",
   "execution_count": 156,
   "metadata": {},
   "outputs": [],
   "source": [
    "# This is the url you will scrape in this exercise\n",
    "url ='https://en.wikipedia.org/wiki/Python' "
   ]
  },
  {
   "cell_type": "code",
   "execution_count": 175,
   "metadata": {},
   "outputs": [
    {
     "data": {
      "text/plain": [
       "[<a class=\"extiw\" href=\"https://en.wiktionary.org/wiki/Python\" title=\"wiktionary:Python\">Python</a>,\n",
       " <a href=\"/wiki/Pythonidae\" title=\"Pythonidae\">Pythonidae</a>,\n",
       " <a href=\"/wiki/Python_(genus)\" title=\"Python (genus)\"><i>Python</i> (genus)</a>,\n",
       " <a href=\"/w/index.php?title=Python&amp;action=edit&amp;section=1\" title=\"Edit section: Computing\">edit</a>,\n",
       " <a href=\"/wiki/Python_(programming_language)\" title=\"Python (programming language)\">Python (programming language)</a>,\n",
       " <a href=\"/w/index.php?title=Python&amp;action=edit&amp;section=2\" title=\"Edit section: People\">edit</a>,\n",
       " <a href=\"/wiki/Python_of_Aenus\" title=\"Python of Aenus\">Python of Aenus</a>,\n",
       " <a href=\"/wiki/Python_(painter)\" title=\"Python (painter)\">Python (painter)</a>,\n",
       " <a href=\"/wiki/Python_of_Byzantium\" title=\"Python of Byzantium\">Python of Byzantium</a>,\n",
       " <a href=\"/wiki/Python_of_Catana\" title=\"Python of Catana\">Python of Catana</a>,\n",
       " <a href=\"/wiki/Python_Anghelo\" title=\"Python Anghelo\">Python Anghelo</a>,\n",
       " <a href=\"/w/index.php?title=Python&amp;action=edit&amp;section=3\" title=\"Edit section: Roller coasters\">edit</a>,\n",
       " <a href=\"/wiki/Python_(Efteling)\" title=\"Python (Efteling)\">Python (Efteling)</a>,\n",
       " <a href=\"/wiki/Python_(Busch_Gardens_Tampa_Bay)\" title=\"Python (Busch Gardens Tampa Bay)\">Python (Busch Gardens Tampa Bay)</a>,\n",
       " <a href=\"/wiki/Python_(Coney_Island,_Cincinnati,_Ohio)\" title=\"Python (Coney Island, Cincinnati, Ohio)\">Python (Coney Island, Cincinnati, Ohio)</a>,\n",
       " <a href=\"/w/index.php?title=Python&amp;action=edit&amp;section=4\" title=\"Edit section: Vehicles\">edit</a>,\n",
       " <a href=\"/wiki/Python_(automobile_maker)\" title=\"Python (automobile maker)\">Python (automobile maker)</a>,\n",
       " <a href=\"/wiki/Python_(Ford_prototype)\" title=\"Python (Ford prototype)\">Python (Ford prototype)</a>,\n",
       " <a href=\"/w/index.php?title=Python&amp;action=edit&amp;section=5\" title=\"Edit section: Weaponry\">edit</a>,\n",
       " <a href=\"/wiki/Python_(missile)\" title=\"Python (missile)\">Python (missile)</a>,\n",
       " <a href=\"/wiki/Python_(nuclear_primary)\" title=\"Python (nuclear primary)\">Python (nuclear primary)</a>,\n",
       " <a href=\"/wiki/Colt_Python\" title=\"Colt Python\">Colt Python</a>,\n",
       " <a href=\"/w/index.php?title=Python&amp;action=edit&amp;section=6\" title=\"Edit section: Other uses\">edit</a>,\n",
       " <a href=\"/wiki/Python_(film)\" title=\"Python (film)\"><i>Python</i> (film)</a>,\n",
       " <a href=\"/wiki/Python_(mythology)\" title=\"Python (mythology)\">Python (mythology)</a>,\n",
       " <a href=\"/wiki/Monty_Python\" title=\"Monty Python\">Monty Python</a>,\n",
       " <a href=\"/wiki/Python_(Monty)_Pictures\" title=\"Python (Monty) Pictures\">Python (Monty) Pictures</a>,\n",
       " <a href=\"/w/index.php?title=Python&amp;action=edit&amp;section=7\" title=\"Edit section: See also\">edit</a>,\n",
       " <a class=\"external text\" href=\"https://en.wikipedia.org/w/index.php?title=Special:WhatLinksHere/Python&amp;namespace=0\">internal link</a>,\n",
       " <a dir=\"ltr\" href=\"https://en.wikipedia.org/w/index.php?title=Python&amp;oldid=1077300299\">https://en.wikipedia.org/w/index.php?title=Python&amp;oldid=1077300299</a>,\n",
       " <a href=\"/w/index.php?title=Special:CreateAccount&amp;returnto=Python\" title=\"You are encouraged to create an account and log in; however, it is not mandatory\"><span>Create account</span></a>,\n",
       " <a accesskey=\"o\" href=\"/w/index.php?title=Special:UserLogin&amp;returnto=Python\" title=\"You're encouraged to log in; however, it's not mandatory. [o]\"><span>Log in</span></a>,\n",
       " <a accesskey=\"c\" href=\"/wiki/Python\" title=\"View the content page [c]\"><span>Article</span></a>,\n",
       " <a accesskey=\"t\" href=\"/wiki/Talk:Python\" rel=\"discussion\" title=\"Discuss improvements to the content page [t]\"><span>Talk</span></a>,\n",
       " <a href=\"/wiki/Python\"><span>Read</span></a>,\n",
       " <a accesskey=\"e\" href=\"/w/index.php?title=Python&amp;action=edit\" title=\"Edit this page [e]\"><span>Edit</span></a>,\n",
       " <a accesskey=\"h\" href=\"/w/index.php?title=Python&amp;action=history\" title=\"Past revisions of this page [h]\"><span>View history</span></a>,\n",
       " <a accesskey=\"j\" href=\"/wiki/Special:WhatLinksHere/Python\" title=\"List of all English Wikipedia pages containing links to this page [j]\"><span>What links here</span></a>,\n",
       " <a accesskey=\"k\" href=\"/wiki/Special:RecentChangesLinked/Python\" rel=\"nofollow\" title=\"Recent changes in pages linked from this page [k]\"><span>Related changes</span></a>,\n",
       " <a href=\"/w/index.php?title=Python&amp;oldid=1077300299\" title=\"Permanent link to this revision of this page\"><span>Permanent link</span></a>,\n",
       " <a href=\"/w/index.php?title=Python&amp;action=info\" title=\"More information about this page\"><span>Page information</span></a>,\n",
       " <a href=\"/w/index.php?title=Special:CiteThisPage&amp;page=Python&amp;id=1077300299&amp;wpFormIdentifier=titleform\" title=\"Information on how to cite this page\"><span>Cite this page</span></a>,\n",
       " <a href=\"/w/index.php?title=Special:DownloadAsPdf&amp;page=Python&amp;action=show-download-screen\" title=\"Download this page as a PDF file\"><span>Download as PDF</span></a>,\n",
       " <a accesskey=\"p\" href=\"/w/index.php?title=Python&amp;printable=yes\" title=\"Printable version of this page [p]\"><span>Printable version</span></a>,\n",
       " <a href=\"https://commons.wikimedia.org/wiki/Category:Python\" hreflang=\"en\"><span>Wikimedia Commons</span></a>,\n",
       " <a class=\"interlanguage-link-target\" href=\"https://af.wikipedia.org/wiki/Python\" hreflang=\"af\" lang=\"af\" title=\"Python – Afrikaans\"><span>Afrikaans</span></a>,\n",
       " <a class=\"interlanguage-link-target\" href=\"https://als.wikipedia.org/wiki/Python\" hreflang=\"gsw\" lang=\"gsw\" title=\"Python – Alemannisch\"><span>Alemannisch</span></a>,\n",
       " <a class=\"interlanguage-link-target\" href=\"https://az.wikipedia.org/wiki/Python\" hreflang=\"az\" lang=\"az\" title=\"Python – Azerbaijani\"><span>Azərbaycanca</span></a>,\n",
       " <a class=\"interlanguage-link-target\" href=\"https://be.wikipedia.org/wiki/Python\" hreflang=\"be\" lang=\"be\" title=\"Python – Belarusian\"><span>Беларуская</span></a>,\n",
       " <a class=\"interlanguage-link-target\" href=\"https://cs.wikipedia.org/wiki/Python_(rozcestn%C3%ADk)\" hreflang=\"cs\" lang=\"cs\" title=\"Python (rozcestník) – Czech\"><span>Čeština</span></a>]"
      ]
     },
     "execution_count": 175,
     "metadata": {},
     "output_type": "execute_result"
    }
   ],
   "source": [
    "#your code\n",
    "html=req.get(url).content \n",
    "soup=bs(html, 'html.parser')\n",
    "python=soup.find_all('a',{'href':re.compile(\"Python\")})\n",
    "python[0:50]\n"
   ]
  },
  {
   "cell_type": "markdown",
   "metadata": {},
   "source": [
    "#### 6.Number of Titles that have changed in the United States Code since its last release point "
   ]
  },
  {
   "cell_type": "code",
   "execution_count": 52,
   "metadata": {},
   "outputs": [],
   "source": [
    "# This is the url you will scrape in this exercise\n",
    "url = 'http://uscode.house.gov/download/download.shtml'"
   ]
  },
  {
   "cell_type": "code",
   "execution_count": 53,
   "metadata": {},
   "outputs": [],
   "source": [
    "#your code\n",
    "html_a=req.get(url).content\n",
    "html_b=bs(html_a, 'html.parser')"
   ]
  },
  {
   "cell_type": "code",
   "execution_count": 62,
   "metadata": {},
   "outputs": [
    {
     "name": "stdout",
     "output_type": "stream",
     "text": [
      "\n",
      "\n",
      "          All titles in the format selected compressed into a zip archive.\n",
      "\n",
      "        \n",
      "\n",
      "\n",
      "              \n",
      "\n",
      "\t        \n",
      "\n",
      "\n",
      "          Title 1 - General Provisions ٭\n",
      "\n",
      "\n",
      "\n",
      "          Title 2 - The Congress\n",
      "\n",
      "        \n",
      "\n",
      "\n",
      "          Title 3 - The President ٭\n",
      "\n",
      "\n",
      "\n",
      "          Title 4 - Flag and Seal, Seat of Government, and the States ٭\n",
      "\n",
      "\n",
      "\n",
      "          Title 6 - Domestic Security\n",
      "\n",
      "        \n",
      "\n",
      "\n",
      "          Title 7 - Agriculture\n",
      "\n",
      "        \n",
      "\n",
      "\n",
      "          Title 8 - Aliens and Nationality\n",
      "\n",
      "        \n",
      "\n",
      "\n",
      "          Title 9 - Arbitration ٭\n",
      "\n",
      "\n",
      "\n",
      "          Title 10 - Armed Forces ٭\n",
      "\n",
      "\n",
      "\n",
      "          Title 11 - Bankruptcy ٭\n",
      "\n",
      "\n",
      "\n",
      "          Title 12 - Banks and Banking\n",
      "\n",
      "        \n",
      "\n",
      "\n",
      "          Title 13 - Census ٭\n",
      "\n",
      "\n",
      "\n",
      "          Title 14 - Coast Guard ٭\n",
      "\n",
      "\n",
      "\n",
      "          Title 15 - Commerce and Trade\n",
      "\n",
      "        \n",
      "\n",
      "\n",
      "          Title 16 - Conservation\n",
      "\n",
      "        \n",
      "\n",
      "\n",
      "          Title 17 - Copyrights ٭\n",
      "\n",
      "\n",
      "\n",
      "          Title 18 - Crimes and Criminal Procedure ٭\n",
      "\n",
      "\n",
      "\n",
      "          Title 19 - Customs Duties\n",
      "\n",
      "        \n",
      "\n",
      "\n",
      "          Title 20 - Education\n",
      "\n",
      "        \n",
      "\n",
      "\n",
      "          Title 21 - Food and Drugs\n",
      "\n",
      "        \n",
      "\n",
      "\n",
      "          Title 22 - Foreign Relations and Intercourse\n",
      "\n",
      "        \n",
      "\n",
      "\n",
      "          Title 23 - Highways ٭\n",
      "\n",
      "\n",
      "\n",
      "          Title 24 - Hospitals and Asylums\n",
      "\n",
      "        \n",
      "\n",
      "\n",
      "          Title 25 - Indians\n",
      "\n",
      "        \n",
      "\n",
      "\n",
      "          Title 26 - Internal Revenue Code\n",
      "\n",
      "        \n",
      "\n",
      "\n",
      "          Title 27 - Intoxicating Liquors\n",
      "\n",
      "        \n",
      "\n",
      "\n",
      "          Title 28 - Judiciary and Judicial Procedure ٭\n",
      "\n",
      "\n",
      "\n",
      "          Title 29 - Labor\n",
      "\n",
      "        \n",
      "\n",
      "\n",
      "          Title 30 - Mineral Lands and Mining\n",
      "\n",
      "        \n",
      "\n",
      "\n",
      "          Title 31 - Money and Finance ٭\n",
      "\n",
      "\n",
      "\n",
      "          Title 32 - National Guard ٭\n",
      "\n",
      "\n",
      "\n",
      "          Title 33 - Navigation and Navigable Waters\n",
      "\n",
      "        \n",
      "\n",
      "\n",
      "          Title 34 - Crime Control and Law Enforcement\n",
      "\n",
      "        \n",
      "\n",
      "\n",
      "          Title 35 - Patents ٭\n",
      "\n",
      "\n",
      "\n",
      "          Title 36 - Patriotic and National Observances, Ceremonies, and Organizations ٭\n",
      "\n",
      "\n",
      "\n",
      "          Title 37 - Pay and Allowances of the Uniformed Services ٭\n",
      "\n",
      "\n",
      "\n",
      "          Title 38 - Veterans' Benefits ٭\n",
      "\n",
      "\n",
      "\n",
      "          Title 40 - Public Buildings, Property, and Works ٭\n",
      "\n",
      "\n",
      "\n",
      "          Title 41 - Public Contracts ٭\n",
      "\n",
      "\n",
      "\n",
      "          Title 43 - Public Lands\n",
      "\n",
      "        \n",
      "\n",
      "\n",
      "          Title 44 - Public Printing and Documents ٭\n",
      "\n",
      "\n",
      "\n",
      "          Title 45 - Railroads\n",
      "\n",
      "        \n",
      "\n",
      "\n",
      "          Title 46 - Shipping ٭\n",
      "\n",
      "\n",
      "\n",
      "          Title 47 - Telecommunications\n",
      "\n",
      "        \n",
      "\n",
      "\n",
      "          Title 48 - Territories and Insular Possessions\n",
      "\n",
      "        \n",
      "\n",
      "\n",
      "          Title 49 - Transportation ٭\n",
      "\n",
      "\n",
      "\n",
      "          Title 50 - War and National Defense\n",
      "\n",
      "        \n",
      "\n",
      "\n",
      "          Title 51 - National and Commercial Space Programs ٭\n",
      "\n",
      "\n",
      "\n",
      "          Title 52 - Voting and Elections\n",
      "\n",
      "        \n",
      "\n",
      "\n",
      "          Title 53 [Reserved]\n",
      "\n",
      "        \n",
      "\n",
      "\n",
      "          Title 54 - National Park Service and Related Programs ٭\n",
      "\n"
     ]
    }
   ],
   "source": [
    "numero_leyes = html_b.find_all('div', {'class':'usctitle'})\n",
    "numero_leyes\n",
    "\n",
    "for i in numero_titulos:\n",
    "    print(i.text)\n"
   ]
  },
  {
   "cell_type": "markdown",
   "metadata": {},
   "source": [
    "#### 7.A Python list with the top ten FBI's Most Wanted names "
   ]
  },
  {
   "cell_type": "code",
   "execution_count": 147,
   "metadata": {},
   "outputs": [],
   "source": [
    "# This is the url you will scrape in this exercise\n",
    "url = 'https://www.fbi.gov/wanted/topten'"
   ]
  },
  {
   "cell_type": "code",
   "execution_count": 148,
   "metadata": {},
   "outputs": [],
   "source": [
    "#your code \n",
    "html_a=req.get(url).content\n",
    "html_b=bs(html_a, 'html.parser')"
   ]
  },
  {
   "cell_type": "code",
   "execution_count": 150,
   "metadata": {},
   "outputs": [
    {
     "name": "stdout",
     "output_type": "stream",
     "text": [
      "\n",
      "RAFAEL CARO-QUINTERO\n",
      "\n",
      "\n",
      "YULAN ADONAY ARCHAGA CARIAS\n",
      "\n",
      "\n",
      "EUGENE PALMER\n",
      "\n",
      "\n",
      "BHADRESHKUMAR CHETANBHAI PATEL\n",
      "\n",
      "\n",
      "ALEJANDRO ROSALES CASTILLO\n",
      "\n",
      "\n",
      "ARNOLDO JIMENEZ\n",
      "\n",
      "\n",
      "JASON DEREK BROWN\n",
      "\n",
      "\n",
      "ALEXIS FLORES\n",
      "\n",
      "\n",
      "JOSE RODOLFO VILLARREAL-HERNANDEZ\n",
      "\n",
      "\n",
      "OCTAVIANO JUAREZ-CORRO\n",
      "\n"
     ]
    }
   ],
   "source": [
    "buscaditos = html_b.find_all('h3', {'class':'title'})\n",
    "for i in buscaditos:\n",
    "    print(i.text)"
   ]
  },
  {
   "cell_type": "markdown",
   "metadata": {},
   "source": [
    "####  8.    20 latest earthquakes info (date, time, latitude, longitude and region name) by the EMSC as a pandas dataframe"
   ]
  },
  {
   "cell_type": "code",
   "execution_count": 89,
   "metadata": {},
   "outputs": [],
   "source": [
    "# This is the url you will scrape in this exercise\n",
    "url = 'https://www.emsc-csem.org/Earthquake/'"
   ]
  },
  {
   "cell_type": "code",
   "execution_count": 90,
   "metadata": {},
   "outputs": [],
   "source": [
    "#your code\n",
    "html_a=req.get(url).content\n",
    "html_b=bs(html_a, 'html.parser')\n"
   ]
  },
  {
   "cell_type": "code",
   "execution_count": 93,
   "metadata": {},
   "outputs": [
    {
     "data": {
      "text/plain": [
       "[]"
      ]
     },
     "execution_count": 93,
     "metadata": {},
     "output_type": "execute_result"
    }
   ],
   "source": [
    "terremotos = html_b.find_all('div', {'class':'content'})\n",
    "terremotos"
   ]
  },
  {
   "cell_type": "markdown",
   "metadata": {},
   "source": [
    "#### 9.Display the date, days, title, city, country of next 25 hackathon events as a Pandas dataframe table"
   ]
  },
  {
   "cell_type": "code",
   "execution_count": 25,
   "metadata": {},
   "outputs": [],
   "source": [
    "# This is the url you will scrape in this exercise\n",
    "url ='https://hackevents.co/hackathons'\n",
    "html_a=req.get(url).content\n",
    "html_b=bs(html_a, 'html.parser')"
   ]
  },
  {
   "cell_type": "code",
   "execution_count": 26,
   "metadata": {},
   "outputs": [],
   "source": [
    "#your code"
   ]
  },
  {
   "cell_type": "markdown",
   "metadata": {},
   "source": [
    "#### 10.Count number of tweets by a given Twitter account."
   ]
  },
  {
   "cell_type": "markdown",
   "metadata": {},
   "source": [
    "You will need to include a ***try/except block*** for account names not found. \n",
    "<br>***Hint:*** the program should count the number of tweets for any provided account"
   ]
  },
  {
   "cell_type": "code",
   "execution_count": 27,
   "metadata": {},
   "outputs": [],
   "source": [
    "# This is the url you will scrape in this exercise \n",
    "# You will need to add the account credentials to this url\n",
    "url = 'https://twitter.com/'"
   ]
  },
  {
   "cell_type": "code",
   "execution_count": 28,
   "metadata": {},
   "outputs": [],
   "source": [
    "#your code"
   ]
  },
  {
   "cell_type": "markdown",
   "metadata": {},
   "source": [
    "#### 11.Number of followers of a given twitter account"
   ]
  },
  {
   "cell_type": "markdown",
   "metadata": {},
   "source": [
    "You will need to include a ***try/except block*** in case account/s name not found. \n",
    "<br>***Hint:*** the program should count the followers for any provided account"
   ]
  },
  {
   "cell_type": "code",
   "execution_count": 29,
   "metadata": {},
   "outputs": [],
   "source": [
    "# This is the url you will scrape in this exercise \n",
    "# You will need to add the account credentials to this url\n",
    "url = 'https://twitter.com/'"
   ]
  },
  {
   "cell_type": "code",
   "execution_count": 30,
   "metadata": {},
   "outputs": [],
   "source": [
    "#your code"
   ]
  },
  {
   "cell_type": "markdown",
   "metadata": {},
   "source": [
    "#### 12.List all language names and number of related articles in the order they appear in wikipedia.org"
   ]
  },
  {
   "cell_type": "code",
   "execution_count": 128,
   "metadata": {},
   "outputs": [],
   "source": [
    "# This is the url you will scrape in this exercise\n",
    "url = 'https://www.wikipedia.org/'"
   ]
  },
  {
   "cell_type": "code",
   "execution_count": 133,
   "metadata": {},
   "outputs": [],
   "source": [
    "#your code\n",
    "html_a=req.get(url).content\n",
    "html_b=bs(html_a, 'html.parser')\n",
    "\n"
   ]
  },
  {
   "cell_type": "code",
   "execution_count": 145,
   "metadata": {},
   "outputs": [
    {
     "name": "stdout",
     "output_type": "stream",
     "text": [
      "\n",
      "\n",
      "\n",
      "\n",
      "English\n",
      "6 458 000+ articles\n",
      "\n",
      "\n",
      "\n",
      "\n",
      "\n",
      "Русский\n",
      "1 798 000+ статей\n",
      "\n",
      "\n",
      "\n",
      "\n",
      "\n",
      "日本語\n",
      "1 314 000+ 記事\n",
      "\n",
      "\n",
      "\n",
      "\n",
      "\n",
      "Deutsch\n",
      "2 667 000+ Artikel\n",
      "\n",
      "\n",
      "\n",
      "\n",
      "\n",
      "Español\n",
      "1 755 000+ artículos\n",
      "\n",
      "\n",
      "\n",
      "\n",
      "\n",
      "Français\n",
      "2 400 000+ articles\n",
      "\n",
      "\n",
      "\n",
      "\n",
      "\n",
      "中文\n",
      "1 256 000+ 條目\n",
      "\n",
      "\n",
      "\n",
      "\n",
      "\n",
      "Italiano\n",
      "1 742 000+ voci\n",
      "\n",
      "\n",
      "\n",
      "\n",
      "\n",
      "Português\n",
      "1 085 000+ artigos\n",
      "\n",
      "\n",
      "\n",
      "\n",
      "\n",
      "Polski\n",
      "1 512 000+ haseł\n",
      "\n",
      "\n",
      "\n"
     ]
    }
   ],
   "source": [
    "idiomas= html_b.find_all('div', {'class':'central-featured'})\n",
    "idiomas= [print(i.text)for i in idiomas]\n",
    "#for i in idiomas:\n",
    " #   print(i.text)\n",
    "   "
   ]
  },
  {
   "cell_type": "markdown",
   "metadata": {},
   "source": [
    "#### 13. A list with the different kind of datasets available in data.gov.uk "
   ]
  },
  {
   "cell_type": "code",
   "execution_count": 94,
   "metadata": {},
   "outputs": [],
   "source": [
    "# This is the url you will scrape in this exercise\n",
    "url = 'https://data.gov.uk/'"
   ]
  },
  {
   "cell_type": "code",
   "execution_count": 95,
   "metadata": {},
   "outputs": [],
   "source": [
    "#your code \n",
    "html_a=req.get(url).content\n",
    "html_b=bs(html_a, 'html.parser')"
   ]
  },
  {
   "cell_type": "code",
   "execution_count": 98,
   "metadata": {},
   "outputs": [
    {
     "name": "stdout",
     "output_type": "stream",
     "text": [
      "Business and economy\n",
      "Crime and justice\n",
      "Defence\n",
      "Education\n",
      "Environment\n",
      "Government\n",
      "Government spending\n",
      "Health\n",
      "Mapping\n",
      "Society\n",
      "Towns and cities\n",
      "Transport\n",
      "Digital service performance\n",
      "Government reference data\n"
     ]
    }
   ],
   "source": [
    "gobierno = html_b.find_all('h3', {'class':'govuk-heading-s dgu-topics__heading'})\n",
    "gobierno\n",
    "for i in gobierno:\n",
    "    print(i.text)"
   ]
  },
  {
   "cell_type": "markdown",
   "metadata": {},
   "source": [
    "#### 14. Top 10 languages by number of native speakers stored in a Pandas Dataframe"
   ]
  },
  {
   "cell_type": "code",
   "execution_count": 99,
   "metadata": {},
   "outputs": [],
   "source": [
    "# This is the url you will scrape in this exercise\n",
    "url = 'https://en.wikipedia.org/wiki/List_of_languages_by_number_of_native_speakers'"
   ]
  },
  {
   "cell_type": "code",
   "execution_count": 100,
   "metadata": {},
   "outputs": [],
   "source": [
    "#your code\n",
    "html_a=req.get(url).content\n",
    "html_b=bs(html_a, 'html.parser')"
   ]
  },
  {
   "cell_type": "code",
   "execution_count": 123,
   "metadata": {},
   "outputs": [
    {
     "name": "stdout",
     "output_type": "stream",
     "text": [
      "\n",
      "Languages with at least 10 million first-language speakers[9]\n",
      "\n",
      "\n",
      "Rank\n",
      "\n",
      "Language\n",
      "\n",
      "Speakers(millions)\n",
      "\n",
      "Percentageof world pop.(March 2019)[10]\n",
      "\n",
      "Language family\n",
      "\n",
      "Branch\n",
      "\n",
      "\n",
      "1\n",
      "\n",
      "Mandarin Chinese\n",
      "\n",
      "918\n",
      "\n",
      "11.922%\n",
      "\n",
      "Sino-Tibetan\n",
      "\n",
      "Sinitic\n",
      "\n",
      "\n",
      "2\n",
      "\n",
      "Spanish\n",
      "\n",
      "480\n",
      "\n",
      "5.994%\n",
      "\n",
      "Indo-European\n",
      "\n",
      "Romance\n",
      "\n",
      "\n",
      "3\n",
      "\n",
      "\n",
      "\n",
      "Top languages by population per Nationalencyklopedin\n",
      "\n",
      "\n",
      "Rank\n",
      "\n",
      "Language\n",
      "\n",
      "Nativespeakersin millions2007 (2010)\n",
      "\n",
      "Percentageof worldpopulation(2007)\n",
      "\n",
      "\n",
      "1\n",
      "Mandarin (entire branch)\n",
      "935 (955)\n",
      "14.1%\n",
      "\n",
      "\n",
      "2\n",
      "Spanish\n",
      "390 (405)\n",
      "5.85%\n",
      "\n",
      "\n",
      "3\n",
      "English\n",
      "365 (360)\n",
      "5.52%\n",
      "\n",
      "\n",
      "4\n",
      "Hindi[b]\n",
      "295 (310)\n",
      "4.46%\n",
      "\n",
      "\n",
      "5\n",
      "A\n",
      "\n",
      "Top first languages by population per CIA[15]\n",
      "\n",
      "\n",
      "Rank\n",
      "\n",
      "Language\n",
      "\n",
      "Percentageof worldpopulation(2018)\n",
      "\n",
      "\n",
      "1\n",
      "Mandarin Chinese\n",
      "12.3%\n",
      "\n",
      "\n",
      "2\n",
      "Spanish\n",
      "6.0%\n",
      "\n",
      "\n",
      "3\n",
      "English\n",
      "5.1%\n",
      "\n",
      "\n",
      "3\n",
      "Arabic\n",
      "5.1%\n",
      "\n",
      "\n",
      "5\n",
      "Hindi\n",
      "3.5%\n",
      "\n",
      "\n",
      "6\n",
      "Bengali\n",
      "3.3%\n",
      "\n",
      "\n",
      "7\n",
      "Portuguese\n",
      "3.0%\n",
      "\n",
      "\n",
      "8\n",
      "Russian\n",
      "2.1%\n",
      "\n",
      "\n",
      "9\n",
      "Japanese\n",
      "1.7%\n",
      "\n",
      "\n",
      "10\n",
      "Western Pun\n"
     ]
    }
   ],
   "source": [
    "Top10 = html_b.find_all('table', {'class':'wikitable'})\n",
    "Top10total= []\n",
    "for i in Top10:\n",
    "    print(i.text[0:280])\n",
    "    Top10total.append(i.text)\n",
    "    \n"
   ]
  },
  {
   "cell_type": "markdown",
   "metadata": {},
   "source": [
    "### BONUS QUESTIONS"
   ]
  },
  {
   "cell_type": "markdown",
   "metadata": {},
   "source": [
    "#### Scrape a certain number of tweets of a given Twitter account."
   ]
  },
  {
   "cell_type": "code",
   "execution_count": 37,
   "metadata": {},
   "outputs": [],
   "source": [
    "# This is the url you will scrape in this exercise \n",
    "# You will need to add the account credentials to this url\n",
    "url = 'https://twitter.com/'"
   ]
  },
  {
   "cell_type": "code",
   "execution_count": 38,
   "metadata": {},
   "outputs": [],
   "source": [
    "# your code"
   ]
  },
  {
   "cell_type": "markdown",
   "metadata": {},
   "source": [
    "#### IMDB's Top 250 data (movie name, Initial release, director name and stars) as a pandas dataframe"
   ]
  },
  {
   "cell_type": "code",
   "execution_count": 39,
   "metadata": {},
   "outputs": [],
   "source": [
    "# This is the url you will scrape in this exercise \n",
    "url = 'https://www.imdb.com/chart/top'"
   ]
  },
  {
   "cell_type": "code",
   "execution_count": 40,
   "metadata": {},
   "outputs": [],
   "source": [
    "# your code"
   ]
  },
  {
   "cell_type": "markdown",
   "metadata": {},
   "source": [
    "#### Movie name, year and a brief summary of the top 10 random movies (IMDB) as a pandas dataframe."
   ]
  },
  {
   "cell_type": "code",
   "execution_count": 41,
   "metadata": {},
   "outputs": [],
   "source": [
    "#This is the url you will scrape in this exercise\n",
    "url = 'http://www.imdb.com/chart/top'"
   ]
  },
  {
   "cell_type": "code",
   "execution_count": 42,
   "metadata": {},
   "outputs": [],
   "source": [
    "#your code"
   ]
  },
  {
   "cell_type": "markdown",
   "metadata": {},
   "source": [
    "#### Find the live weather report (temperature, wind speed, description and weather) of a given city."
   ]
  },
  {
   "cell_type": "code",
   "execution_count": 43,
   "metadata": {},
   "outputs": [
    {
     "name": "stdout",
     "output_type": "stream",
     "text": [
      "Enter the city:madrid\n"
     ]
    }
   ],
   "source": [
    "#https://openweathermap.org/current\n",
    "city = city=input('Enter the city:')\n",
    "url = 'http://api.openweathermap.org/data/2.5/weather?'+'q='+city+'&APPID=b35975e18dc93725acb092f7272cc6b8&units=metric'"
   ]
  },
  {
   "cell_type": "code",
   "execution_count": 44,
   "metadata": {},
   "outputs": [],
   "source": [
    "# your code"
   ]
  },
  {
   "cell_type": "markdown",
   "metadata": {},
   "source": [
    "#### Book name,price and stock availability as a pandas dataframe."
   ]
  },
  {
   "cell_type": "code",
   "execution_count": 45,
   "metadata": {},
   "outputs": [],
   "source": [
    "# This is the url you will scrape in this exercise. \n",
    "# It is a fictional bookstore created to be scraped. \n",
    "url = 'http://books.toscrape.com/'"
   ]
  },
  {
   "cell_type": "code",
   "execution_count": 46,
   "metadata": {},
   "outputs": [],
   "source": [
    "#your code"
   ]
  }
 ],
 "metadata": {
  "kernelspec": {
   "display_name": "Python 3",
   "language": "python",
   "name": "python3"
  },
  "language_info": {
   "codemirror_mode": {
    "name": "ipython",
    "version": 3
   },
   "file_extension": ".py",
   "mimetype": "text/x-python",
   "name": "python",
   "nbconvert_exporter": "python",
   "pygments_lexer": "ipython3",
   "version": "3.8.5"
  }
 },
 "nbformat": 4,
 "nbformat_minor": 2
}
