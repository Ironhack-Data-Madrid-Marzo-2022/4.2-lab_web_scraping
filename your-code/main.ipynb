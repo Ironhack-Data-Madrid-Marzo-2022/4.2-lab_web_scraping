{
 "cells": [
  {
   "cell_type": "markdown",
   "metadata": {},
   "source": [
    "# Web Scraping Lab\n",
    "\n",
    "You will find in this notebook some scrapy exercises to practise your scraping skills.\n",
    "\n",
    "**Tips:**\n",
    "\n",
    "- Check the response status code for each request to ensure you have obtained the intended contennt.\n",
    "- Print the response text in each request to understand the kind of info you are getting and its format.\n",
    "- Check for patterns in the response text to extract the data/info requested in each question.\n",
    "- Visit each url and take a look at its source through Chrome DevTools. You'll need to identify the html tags, special class names etc. used for the html content you are expected to extract."
   ]
  },
  {
   "cell_type": "markdown",
   "metadata": {},
   "source": [
    "- [Requests library](http://docs.python-requests.org/en/master/#the-user-guide) documentation \n",
    "- [Beautiful Soup Doc](https://www.crummy.com/software/BeautifulSoup/bs4/doc/)\n",
    "- [Urllib](https://docs.python.org/3/library/urllib.html#module-urllib)\n",
    "- [re lib](https://docs.python.org/3/library/re.html)\n",
    "- [lxml lib](https://lxml.de/)\n",
    "- [Scrapy](https://scrapy.org/)\n",
    "- [List of HTTP status codes](https://en.wikipedia.org/wiki/List_of_HTTP_status_codes)\n",
    "- [HTML basics](http://www.simplehtmlguide.com/cheatsheet.php)\n",
    "- [CSS basics](https://www.cssbasics.com/#page_start)"
   ]
  },
  {
   "cell_type": "markdown",
   "metadata": {},
   "source": [
    "#### Below are the libraries and modules you may need. `requests`,  `BeautifulSoup` and `pandas` are imported for you. If you prefer to use additional libraries feel free to uncomment them."
   ]
  },
  {
   "cell_type": "markdown",
   "source": [
    "## Laboratorio de raspado web\n",
    "\n",
    "Deberá identificar las etiquetas html, los nombres de clases especiales.\n",
    "\n",
    "A continuación se muestran las bibliotecas y los módulos que puede necesitar.\n",
    "\n",
    "Solicitudes, BeautifulSoup y pandas se importan para usted. Si prefiere usar bibliotecas adicionales, no dude en descomentarlas.\n",
    "\n",
    "Descargue, analice (usando BeautifulSoup) e imprima el contenido de la página Trending Developers de GitHub:"
   ],
   "metadata": {
    "collapsed": false,
    "pycharm": {
     "name": "#%% md\n"
    }
   }
  },
  {
   "cell_type": "code",
   "execution_count": 42,
   "metadata": {},
   "outputs": [],
   "source": [
    "import requests as req\n",
    "from bs4 import BeautifulSoup as bs\n",
    "import pandas as pd\n",
    "# from pprint import pprint\n",
    "# from lxml import html\n",
    "# from lxml.html import fromstring\n",
    "# import urllib.request\n",
    "# from urllib.request import urlopen\n",
    "# import random\n",
    "# import re\n",
    "# import scrapy\n",
    "\n",
    "def replace_regex(repl_dict, df, col):\n",
    "    try:\n",
    "        for key in repl_dict:\n",
    "            for el in repl_dict[key]:\n",
    "                df[col]=df[col].str.replace(el, key, regex=True)\n",
    "        return True\n",
    "    except:\n",
    "        return False\n"
   ]
  },
  {
   "cell_type": "markdown",
   "metadata": {},
   "source": [
    "#### Download, parse (using BeautifulSoup), and print the content from the Trending Developers page from GitHub:"
   ]
  },
  {
   "cell_type": "code",
   "execution_count": 17,
   "metadata": {},
   "outputs": [
    {
     "data": {
      "text/plain": "bs4.BeautifulSoup"
     },
     "execution_count": 17,
     "metadata": {},
     "output_type": "execute_result"
    }
   ],
   "source": [
    "# This is the url you will scrape in this exercise\n",
    "url = 'https://github.com/trending/developers'\n",
    "html=req.get(url).content\n",
    "soup=bs(html, 'html.parser')\n",
    "\n",
    "# IMPORTANT: Too long to print. I print only it's type\n",
    "type(soup)"
   ]
  },
  {
   "cell_type": "code",
   "execution_count": 18,
   "metadata": {},
   "outputs": [
    {
     "data": {
      "text/plain": "['Marten Seemann',\n 'Boris Dayma',\n 'Amruth Pillai',\n 'Ariel Mashraki',\n 'Álvaro',\n \"Bruno D'Luka\",\n 'Yoni Goldberg',\n 'Adrian Wälchli',\n 'Yair Morgenstern',\n 'Florian Roth',\n 'Oleg Grenrus',\n 'François Chollet',\n 'Stefan Prodan',\n 'David Sherret',\n 'Franco Victorio',\n 'Michael Shilman',\n 'Olivier Halligon',\n 'Tim Arney',\n '@greweb',\n 'Waleed Khan',\n 'dan',\n 'Nathan Shively-Sanders',\n 'Brian Coca',\n 'Robin Cole',\n 'steveoh']"
     },
     "execution_count": 18,
     "metadata": {},
     "output_type": "execute_result"
    }
   ],
   "source": [
    "\n",
    "h1_list = soup.find_all('h1', class_='h3 lh-condensed')\n",
    "\n",
    "names=[]\n",
    "\n",
    "for h in h1_list:\n",
    "    el = h.text.strip()\n",
    "    names.append(el)\n",
    "\n",
    "\n",
    "names"
   ]
  },
  {
   "cell_type": "markdown",
   "metadata": {},
   "source": [
    "#### Display the names of the trending developers retrieved in the previous step.\n",
    "\n",
    "Your output should be a Python list of developer names. Each name should not contain any html tag.\n",
    "\n",
    "**Instructions:**\n",
    "\n",
    "1. Find out the html tag and class names used for the developer names. You can achieve this using Chrome DevTools.\n",
    "\n",
    "1. Use BeautifulSoup to extract all the html elements that contain the developer names.\n",
    "\n",
    "1. Use string manipulation techniques to replace whitespaces and linebreaks (i.e. `\\n`) in the *text* of each html element. Use a list to store the clean names.\n",
    "\n",
    "1. Print the list of names.\n",
    "\n",
    "Your output should look like below:\n",
    "\n",
    "```\n",
    "['trimstray (@trimstray)',\n",
    " 'joewalnes (JoeWalnes)',\n",
    " 'charlax (Charles-AxelDein)',\n",
    " 'ForrestKnight (ForrestKnight)',\n",
    " 'revery-ui (revery-ui)',\n",
    " 'alibaba (Alibaba)',\n",
    " 'Microsoft (Microsoft)',\n",
    " 'github (GitHub)',\n",
    " 'facebook (Facebook)',\n",
    " 'boazsegev (Bo)',\n",
    " 'google (Google)',\n",
    " 'cloudfetch',\n",
    " 'sindresorhus (SindreSorhus)',\n",
    " 'tensorflow',\n",
    " 'apache (TheApacheSoftwareFoundation)',\n",
    " 'DevonCrawford (DevonCrawford)',\n",
    " 'ARMmbed (ArmMbed)',\n",
    " 'vuejs (vuejs)',\n",
    " 'fastai (fast.ai)',\n",
    " 'QiShaoXuan (Qi)',\n",
    " 'joelparkerhenderson (JoelParkerHenderson)',\n",
    " 'torvalds (LinusTorvalds)',\n",
    " 'CyC2018',\n",
    " 'komeiji-satori (神楽坂覚々)',\n",
    " 'script-8']\n",
    " ```"
   ]
  },
  {
   "cell_type": "markdown",
   "metadata": {},
   "source": [
    "#### Display the trending Python repositories in GitHub\n",
    "\n",
    "The steps to solve this problem is similar to the previous one except that you need to find out the repository names instead of developer names."
   ]
  },
  {
   "cell_type": "code",
   "execution_count": 19,
   "metadata": {},
   "outputs": [],
   "source": [
    "# This is the url you will scrape in this exercise\n",
    "url = 'https://github.com/trending/python?since=daily'\n",
    "html=req.get(url).content\n",
    "soup=bs(html, 'html.parser')"
   ]
  },
  {
   "cell_type": "code",
   "execution_count": 20,
   "metadata": {},
   "outputs": [
    {
     "data": {
      "text/plain": "['public-apis/public-apis',\n 'open-mmlab/mmdeploy',\n 'huggingface/transformers',\n 'fullhunt/spring4shell-scan',\n 'triton-inference-server/server',\n 'vinta/awesome-python',\n 'hpcaitech/ColossalAI',\n 'microsoft/nni',\n 'pinry/pinry',\n 'rly0nheart/octosuite',\n 'lucidrains/DALLE2-pytorch',\n 'google-research/maxim',\n 'open-mmlab/mmsegmentation',\n 'bregman-arie/devops-exercises',\n 'obss/sahi',\n 'borisdayma/dalle-mini',\n 'lucidrains/PaLM-pytorch',\n 'awslabs/gluon-ts',\n 'facebookresearch/pytorch3d',\n 'bentoml/BentoML',\n 'jina-ai/clip-as-service',\n 'open-mmlab/mmdetection',\n 'python/cpython',\n 'uber/causalml',\n 'facebookresearch/ParlAI']"
     },
     "execution_count": 20,
     "metadata": {},
     "output_type": "execute_result"
    }
   ],
   "source": [
    "#your code\n",
    "h1_list = soup.find_all('h1', class_='h3 lh-condensed')\n",
    "\n",
    "names=[]\n",
    "\n",
    "for h in h1_list:\n",
    "    el = h.text.strip().split(' ')\n",
    "    el = \"\".join(el).split('\\n')\n",
    "    el = \"\".join(el)\n",
    "\n",
    "    names.append(el)\n",
    "\n",
    "names"
   ]
  },
  {
   "cell_type": "markdown",
   "metadata": {},
   "source": [
    "#### Display all the image links from Walt Disney wikipedia page"
   ]
  },
  {
   "cell_type": "code",
   "execution_count": 21,
   "metadata": {},
   "outputs": [],
   "source": [
    "# This is the url you will scrape in this exercise\n",
    "url = 'https://en.wikipedia.org/wiki/Walt_Disney'\n",
    "#your code\n",
    "html=req.get(url).content\n",
    "soup=bs(html, 'html.parser')\n"
   ]
  },
  {
   "cell_type": "code",
   "execution_count": 22,
   "metadata": {},
   "outputs": [
    {
     "data": {
      "text/plain": "['https://upload.wikimedia.org/wikipedia/en/thumb/e/e7/Cscr-featured.svg/20px-Cscr-featured.svg.png',\n 'https://upload.wikimedia.org/wikipedia/en/thumb/8/8c/Extended-protection-shackle.svg/20px-Extended-protection-shackle.svg.png',\n 'https://upload.wikimedia.org/wikipedia/commons/thumb/d/df/Walt_Disney_1946.JPG/220px-Walt_Disney_1946.JPG',\n 'https://upload.wikimedia.org/wikipedia/commons/thumb/8/87/Walt_Disney_1942_signature.svg/150px-Walt_Disney_1942_signature.svg.png',\n 'https://upload.wikimedia.org/wikipedia/commons/thumb/c/c4/Walt_Disney_envelope_ca._1921.jpg/220px-Walt_Disney_envelope_ca._1921.jpg',\n 'https://upload.wikimedia.org/wikipedia/commons/thumb/4/4d/Newman_Laugh-O-Gram_%281921%29.webm/220px-seek%3D2-Newman_Laugh-O-Gram_%281921%29.webm.jpg',\n 'https://upload.wikimedia.org/wikipedia/commons/thumb/0/0d/Trolley_Troubles_poster.jpg/170px-Trolley_Troubles_poster.jpg',\n 'https://upload.wikimedia.org/wikipedia/en/thumb/4/4e/Steamboat-willie.jpg/170px-Steamboat-willie.jpg',\n 'https://upload.wikimedia.org/wikipedia/commons/thumb/5/57/Walt_Disney_1935.jpg/170px-Walt_Disney_1935.jpg',\n 'https://upload.wikimedia.org/wikipedia/commons/thumb/c/cd/Walt_Disney_Snow_white_1937_trailer_screenshot_%2813%29.jpg/220px-Walt_Disney_Snow_white_1937_trailer_screenshot_%2813%29.jpg',\n 'https://upload.wikimedia.org/wikipedia/commons/thumb/1/15/Disney_drawing_goofy.jpg/170px-Disney_drawing_goofy.jpg',\n 'https://upload.wikimedia.org/wikipedia/commons/thumb/1/13/DisneySchiphol1951.jpg/220px-DisneySchiphol1951.jpg',\n 'https://upload.wikimedia.org/wikipedia/commons/thumb/8/8c/WaltDisneyplansDisneylandDec1954.jpg/220px-WaltDisneyplansDisneylandDec1954.jpg',\n 'https://upload.wikimedia.org/wikipedia/commons/thumb/f/ff/Walt_disney_portrait_right.jpg/170px-Walt_disney_portrait_right.jpg',\n 'https://upload.wikimedia.org/wikipedia/commons/thumb/1/1a/Walt_Disney_Grave.JPG/170px-Walt_Disney_Grave.JPG',\n 'https://upload.wikimedia.org/wikipedia/commons/thumb/2/2d/Roy_O._Disney_with_Company_at_Press_Conference.jpg/170px-Roy_O._Disney_with_Company_at_Press_Conference.jpg',\n 'https://upload.wikimedia.org/wikipedia/commons/thumb/b/b0/Disney_Oscar_1953_%28cropped%29.jpg/170px-Disney_Oscar_1953_%28cropped%29.jpg',\n 'https://upload.wikimedia.org/wikipedia/commons/thumb/6/6c/Disney1968.jpg/170px-Disney1968.jpg',\n 'https://upload.wikimedia.org/wikipedia/en/thumb/8/8a/OOjs_UI_icon_edit-ltr-progressive.svg/10px-OOjs_UI_icon_edit-ltr-progressive.svg.png',\n 'https://upload.wikimedia.org/wikipedia/commons/thumb/e/e3/Disneyland_Resort_logo.svg/135px-Disneyland_Resort_logo.svg.png',\n 'https://upload.wikimedia.org/wikipedia/commons/thumb/d/da/Animation_disc.svg/20px-Animation_disc.svg.png',\n 'https://upload.wikimedia.org/wikipedia/en/thumb/6/69/P_vip.svg/19px-P_vip.svg.png',\n 'https://upload.wikimedia.org/wikipedia/commons/thumb/1/1a/Magic_Kingdom_castle.jpg/15px-Magic_Kingdom_castle.jpg',\n 'https://upload.wikimedia.org/wikipedia/en/thumb/e/e7/Video-x-generic.svg/19px-Video-x-generic.svg.png',\n 'https://upload.wikimedia.org/wikipedia/commons/thumb/a/a3/Flag_of_Los_Angeles_County%2C_California.svg/21px-Flag_of_Los_Angeles_County%2C_California.svg.png',\n 'https://upload.wikimedia.org/wikipedia/commons/thumb/8/8c/Blank_television_set.svg/21px-Blank_television_set.svg.png',\n 'https://upload.wikimedia.org/wikipedia/en/thumb/a/a4/Flag_of_the_United_States.svg/21px-Flag_of_the_United_States.svg.png',\n 'https://upload.wikimedia.org/wikipedia/en/thumb/4/4a/Commons-logo.svg/14px-Commons-logo.svg.png',\n 'https://upload.wikimedia.org/wikipedia/commons/thumb/f/fa/Wikiquote-logo.svg/16px-Wikiquote-logo.svg.png',\n 'https://upload.wikimedia.org/wikipedia/commons/thumb/f/ff/Wikidata-logo.svg/21px-Wikidata-logo.svg.png',\n 'https://upload.wikimedia.org/wikipedia/en/thumb/8/8a/OOjs_UI_icon_edit-ltr-progressive.svg/10px-OOjs_UI_icon_edit-ltr-progressive.svg.png',\n 'https://en.wikipedia.org/wiki/Special:CentralAutoLogin/start?type=1x1',\n 'https:/static/images/footer/wikimedia-button.png',\n 'https:/static/images/footer/poweredby_mediawiki_88x31.png']"
     },
     "execution_count": 22,
     "metadata": {},
     "output_type": "execute_result"
    }
   ],
   "source": [
    "#your code\n",
    "images = soup.find_all('img')\n",
    "img_list = []\n",
    "\n",
    "\n",
    "for img in images:\n",
    "    img_list.append('https:' + img[\"src\"])\n",
    "\n",
    "img_list"
   ]
  },
  {
   "cell_type": "markdown",
   "metadata": {},
   "source": [
    "#### Retrieve an arbitary Wikipedia page of \"Python\" and create a list of links on that page"
   ]
  },
  {
   "cell_type": "code",
   "execution_count": 23,
   "metadata": {},
   "outputs": [],
   "source": [
    "# This is the url you will scrape in this exercise\n",
    "url ='https://en.wikipedia.org/wiki/Python'"
   ]
  },
  {
   "cell_type": "code",
   "execution_count": 24,
   "metadata": {},
   "outputs": [
    {
     "data": {
      "text/plain": "['https://en.wiktionary.org/wiki/Python',\n 'https://en.wiktionary.org/wiki/python',\n 'https://en.wikipedia.org/w/index.php?title=Special:WhatLinksHere/Python&namespace=0',\n 'https://en.wikipedia.org/w/index.php?title=Python&oldid=1077300299',\n 'https://commons.wikimedia.org/wiki/Category:Python',\n 'https://af.wikipedia.org/wiki/Python',\n 'https://als.wikipedia.org/wiki/Python',\n 'https://az.wikipedia.org/wiki/Python',\n 'https://be.wikipedia.org/wiki/Python',\n 'https://cs.wikipedia.org/wiki/Python_(rozcestn%C3%ADk)',\n 'https://da.wikipedia.org/wiki/Python',\n 'https://de.wikipedia.org/wiki/Python',\n 'https://eu.wikipedia.org/wiki/Python_(argipena)',\n 'https://fr.wikipedia.org/wiki/Python',\n 'https://hr.wikipedia.org/wiki/Python_(razdvojba)',\n 'https://id.wikipedia.org/wiki/Python',\n 'https://ia.wikipedia.org/wiki/Python_(disambiguation)',\n 'https://is.wikipedia.org/wiki/Python_(a%C3%B0greining)',\n 'https://it.wikipedia.org/wiki/Python_(disambigua)',\n 'https://la.wikipedia.org/wiki/Python_(discretiva)',\n 'https://lb.wikipedia.org/wiki/Python',\n 'https://hu.wikipedia.org/wiki/Python_(egy%C3%A9rtelm%C5%B1s%C3%ADt%C5%91_lap)',\n 'https://nl.wikipedia.org/wiki/Python',\n 'https://pt.wikipedia.org/wiki/Python_(desambigua%C3%A7%C3%A3o)',\n 'https://ru.wikipedia.org/wiki/Python_(%D0%B7%D0%BD%D0%B0%D1%87%D0%B5%D0%BD%D0%B8%D1%8F)',\n 'https://sk.wikipedia.org/wiki/Python',\n 'https://sh.wikipedia.org/wiki/Python',\n 'https://fi.wikipedia.org/wiki/Python',\n 'https://tr.wikipedia.org/wiki/Python_(anlam_ayr%C4%B1m%C4%B1)',\n 'https://vi.wikipedia.org/wiki/Python',\n 'https://zh.wikipedia.org/wiki/Python_(%E6%B6%88%E6%AD%A7%E4%B9%89)']"
     },
     "execution_count": 24,
     "metadata": {},
     "output_type": "execute_result"
    }
   ],
   "source": [
    "#your code\n",
    "html=req.get(url).content\n",
    "soup=bs(html, 'html.parser')\n",
    "\n",
    "urls = soup.find_all('a')\n",
    "\n",
    "url_list = []\n",
    "\n",
    "for url in urls:\n",
    "    url_list.append(url.get('href', ''))\n",
    "\n",
    "\n",
    "def check_url(url):\n",
    "    url = url.lower()\n",
    "    return 'http' in url and 'python' in url\n",
    "\n",
    "\n",
    "filtered_list = list(filter(check_url, url_list))\n",
    "\n",
    "filtered_list"
   ]
  },
  {
   "cell_type": "markdown",
   "metadata": {},
   "source": [
    "#### Number of Titles that have changed in the United States Code since its last release point "
   ]
  },
  {
   "cell_type": "code",
   "execution_count": 25,
   "metadata": {},
   "outputs": [],
   "source": [
    "# This is the url you will scrape in this exercise\n",
    "url = 'http://uscode.house.gov/download/download.shtml'"
   ]
  },
  {
   "cell_type": "code",
   "execution_count": 26,
   "metadata": {},
   "outputs": [
    {
     "data": {
      "text/plain": "['Title 12 - Banks and Banking',\n 'Title 19 - Customs Duties',\n 'Title 22 - Foreign Relations and Intercourse']"
     },
     "execution_count": 26,
     "metadata": {},
     "output_type": "execute_result"
    }
   ],
   "source": [
    "#your code\n",
    "html=req.get(url).content\n",
    "soup=bs(html, 'html.parser')\n",
    "\n",
    "titles = soup.find_all('div', class_='usctitlechanged')\n",
    "\n",
    "title_list = []\n",
    "\n",
    "for title in titles:\n",
    "    el = title.text.strip()\n",
    "    title_list.append(el)\n",
    "\n",
    "title_list\n"
   ]
  },
  {
   "cell_type": "markdown",
   "metadata": {},
   "source": [
    "#### A Python list with the top ten FBI's Most Wanted names "
   ]
  },
  {
   "cell_type": "code",
   "execution_count": 27,
   "metadata": {},
   "outputs": [],
   "source": [
    "# This is the url you will scrape in this exercise\n",
    "url = 'https://www.fbi.gov/wanted/topten'\n"
   ]
  },
  {
   "cell_type": "code",
   "execution_count": 28,
   "metadata": {},
   "outputs": [
    {
     "data": {
      "text/plain": "[]"
     },
     "execution_count": 28,
     "metadata": {},
     "output_type": "execute_result"
    }
   ],
   "source": [
    "#your code\n",
    "html=req.get(url).content\n",
    "soup=bs(html, 'html.parser')\n",
    "\n",
    "names = soup.find_all('h3', class_='title')\n",
    "\n",
    "name_list = []\n",
    "\n",
    "for name in names:\n",
    "    el = name.text.strip()\n",
    "    name_list.append(el)\n",
    "\n",
    "name_list"
   ]
  },
  {
   "cell_type": "markdown",
   "metadata": {},
   "source": [
    "####  20 latest earthquakes info (date, time, latitude, longitude and region name) by the EMSC as a pandas dataframe"
   ]
  },
  {
   "cell_type": "code",
   "execution_count": 29,
   "metadata": {},
   "outputs": [],
   "source": [
    "# This is the url you will scrape in this exercise\n",
    "url = 'https://www.emsc-csem.org/Earthquake/'\n"
   ]
  },
  {
   "cell_type": "code",
   "execution_count": 55,
   "metadata": {},
   "outputs": [
    {
     "name": "stdout",
     "output_type": "stream",
     "text": [
      "              DATE    LATITUDE LONGITUDE  \\\n",
      "0       2022-04-12     35.03 S   72.07 W   \n",
      "1       2022-04-12     34.78 N  118.40 W   \n",
      "2       2022-04-12     18.02 N   66.78 W   \n",
      "3       2022-04-12     32.53 S  179.33 E   \n",
      "4       2022-04-12     35.49 N    3.64 W   \n",
      "5       2022-04-12     63.98 N   23.43 W   \n",
      "6       2022-04-12     19.33 N  155.02 W   \n",
      "7       2022-04-12     35.52 N    3.63 W   \n",
      "8       2022-04-12     33.99 S   72.36 W   \n",
      "9       2022-04-12     63.76 N   24.28 W   \n",
      "10    1F2022-04-12     63.95 N   23.45 W   \n",
      "11      2022-04-12     35.56 N    3.65 W   \n",
      "12   3IV2022-04-12     63.84 N   22.66 W   \n",
      "13      2022-04-12     31.07 N  103.14 W   \n",
      "14      2022-04-12     35.48 N   31.54 E   \n",
      "15  14IV2022-04-12     40.90 N   20.81 E   \n",
      "16      2022-04-12     34.02 S   72.32 W   \n",
      "17      2022-04-12     36.45 N  120.46 W   \n",
      "18      2022-04-12     38.63 N   28.27 W   \n",
      "19      2022-04-12     35.49 N    3.65 W   \n",
      "20      2022-04-12     19.20 N  155.44 W   \n",
      "21   2IV2022-04-12     20.06 S   14.96 E   \n",
      "22      2022-04-12     35.61 N    3.62 W   \n",
      "23      2022-04-12     28.24 N   16.34 W   \n",
      "24      2022-04-12     18.85 N   67.18 W   \n",
      "25      2022-04-12     24.43 S   67.26 W   \n",
      "26      2022-04-12     38.30 N   13.56 E   \n",
      "27      2022-04-12      8.43 N   82.79 W   \n",
      "28      2022-04-12     42.77 N   13.08 E   \n",
      "29      2022-04-12     63.89 N   22.04 W   \n",
      "30      2022-04-12     40.34 N   25.76 E   \n",
      "31      2022-04-12     41.05 N   48.60 E   \n",
      "32     F2022-04-12     38.98 N   24.14 E   \n",
      "33      2022-04-12     42.34 N    1.38 E   \n",
      "34      2022-04-12     33.92 N  117.08 W   \n",
      "35      2022-04-12     35.60 N    3.58 W   \n",
      "36      2022-04-12     37.85 N   77.57 W   \n",
      "37      2022-04-12     35.48 N    3.63 W   \n",
      "38      2022-04-12     36.96 N  119.86 W   \n",
      "39     F2022-04-12     11.82 S   75.14 W   \n",
      "40      2022-04-12      0.33 N   96.67 E   \n",
      "41      2022-04-12     35.48 N    3.58 W   \n",
      "42      2022-04-12      0.67 N   98.74 E   \n",
      "43  3III2022-04-12     35.61 N    3.62 W   \n",
      "44      2022-04-12     51.23 N  178.88 E   \n",
      "45      2022-04-12     51.24 N  178.85 E   \n",
      "46      2022-04-12     36.96 N   28.43 E   \n",
      "47      2022-04-12     58.06 N  153.65 W   \n",
      "48      2022-04-12     17.98 N   66.84 W   \n",
      "49     F2022-04-12      0.24 S  100.32 E   \n",
      "\n",
      "                                               REGION  \n",
      "0                37 M3.3 MAULE, CHILE2022-04-12 22:52  \n",
      "1          1Ml2.1 SOUTHERN CALIFORNIA2022-04-12 22:37  \n",
      "2                 10ML2.6 PUERTO RICO2022-04-12 22:35  \n",
      "3   379M 4.4 SOUTH OF KERMADEC ISLANDS2022-04-12 2...  \n",
      "4         30ML2.2 STRAIT OF GIBRALTAR2022-04-12 22:21  \n",
      "5               1 M3.2 ICELAND REGION2022-04-12 22:05  \n",
      "6     5ML2.5 ISLAND OF HAWAII, HAWAII2022-04-12 22:00  \n",
      "7         30ML2.1 STRAIT OF GIBRALTAR2022-04-12 22:00  \n",
      "8   21 M3.1 OFFSHORE O'HIGGINS, CHILE2022-04-12 22:04  \n",
      "9               1 M3.4 ICELAND REGION2022-04-12 21:45  \n",
      "10              6 M3.1 ICELAND REGION2022-04-12 21:40  \n",
      "11        10ML2.2 STRAIT OF GIBRALTAR2022-04-12 21:55  \n",
      "12              7 M3.2 ICELAND REGION2022-04-12 21:35  \n",
      "13               5ML2.8 WESTERN TEXAS2022-04-12 21:26  \n",
      "14              10ML2.2 CYPRUS REGION2022-04-12 21:40  \n",
      "15                     0ML2.8 ALBANIA2022-04-12 21:41  \n",
      "16  34 M3.6 OFFSHORE O'HIGGINS, CHILE2022-04-12 21:07  \n",
      "17         18Md2.3 CENTRAL CALIFORNIA2022-04-12 21:41  \n",
      "18   11ML2.5 AZORES ISLANDS, PORTUGAL2022-04-12 20:55  \n",
      "19        15ML2.5 STRAIT OF GIBRALTAR2022-04-12 20:57  \n",
      "20   40ML2.6 ISLAND OF HAWAII, HAWAII2022-04-12 21:27  \n",
      "21                    10mb5.0 NAMIBIA2022-04-12 21:17  \n",
      "22        10ML2.6 STRAIT OF GIBRALTAR2022-04-12 21:16  \n",
      "23  25ML1.8 CANARY ISLANDS, SPAIN REGION2022-04-12...  \n",
      "24         55Md3.0 PUERTO RICO REGION2022-04-12 20:57  \n",
      "25          178 M3.4 SALTA, ARGENTINA2022-04-12 20:15  \n",
      "26               5ML2.4 SICILY, ITALY2022-04-12 20:15  \n",
      "27  30 M3.7 PANAMA-COSTA RICA BORDER REGION2022-04...  \n",
      "28              10ML2.1 CENTRAL ITALY2022-04-12 20:02  \n",
      "29              4 M4.2 ICELAND REGION2022-04-12 20:00  \n",
      "30                 10ML2.1 AEGEAN SEA2022-04-12 21:16  \n",
      "31                  3ML3.4 AZERBAIJAN2022-04-12 21:25  \n",
      "32                 10ML3.5 AEGEAN SEA2022-04-12 21:15  \n",
      "33                    7ML1.5 PYRENEES2022-04-12 19:45  \n",
      "34        14Ml2.2 SOUTHERN CALIFORNIA2022-04-12 20:40  \n",
      "35        15ML2.7 STRAIT OF GIBRALTAR2022-04-12 21:13  \n",
      "36                    9Md2.4 VIRGINIA2022-04-12 20:18  \n",
      "37        19ML2.4 STRAIT OF GIBRALTAR2022-04-12 19:31  \n",
      "38         10Md2.1 CENTRAL CALIFORNIA2022-04-12 20:54  \n",
      "39               18 M4.0 CENTRAL PERU2022-04-12 18:55  \n",
      "40     11 M3.6 NIAS REGION, INDONESIA2022-04-12 18:40  \n",
      "41        24ML2.1 STRAIT OF GIBRALTAR2022-04-12 18:52  \n",
      "42     10 M2.7 NIAS REGION, INDONESIA2022-04-12 18:25  \n",
      "43        10ML3.4 STRAIT OF GIBRALTAR2022-04-12 21:13  \n",
      "44  60mb4.2 RAT ISLANDS, ALEUTIAN ISLANDS2022-04-1...  \n",
      "45  44mb4.6 RAT ISLANDS, ALEUTIAN ISLANDS2022-04-1...  \n",
      "46  6ML2.4 DODECANESE IS.-TURKEY BORDER REG2022-04...  \n",
      "47  65ML2.6 KODIAK ISLAND REGION, ALASKA2022-04-12...  \n",
      "48                15Md2.1 PUERTO RICO2022-04-12 17:29  \n",
      "49  10 M3.2 SOUTHERN SUMATRA, INDONESIA2022-04-12 ...  \n"
     ]
    }
   ],
   "source": [
    "#your code\n",
    "import unidecode\n",
    "url = 'https://www.emsc-csem.org/Earthquake/'\n",
    "html=req.get(url).content\n",
    "soup=bs(html, 'html.parser')\n",
    "\n",
    "earthquakes = soup.find_all('tr')\n",
    "\n",
    "lst = []\n",
    "\n",
    "for earthquake in earthquakes:\n",
    "    row = earthquake.text.replace(u'\\xa0', ' ')\n",
    "    if \"earthquake\" in row:\n",
    "        lst.append(row.split('  '))\n",
    "\n",
    "df1 = pd.DataFrame(lst, columns=['DATE', 'LATITUDE', 'LONGITUDE', 'REGION'])\n",
    "\n",
    "repl_dict = {\n",
    "    \"\": [\"earthquake\", \"[0-9:.]*min\", \"[0-9:.]*hr\", \"ago\"]\n",
    "}\n",
    "\n",
    "replace_regex(repl_dict, df1, \"DATE\")\n",
    "replace_regex(repl_dict, df1, \"LATITUDE\")\n",
    "\n",
    "print(df1)"
   ]
  },
  {
   "cell_type": "markdown",
   "metadata": {},
   "source": [
    "#### Display the date, days, title, city, country of next 25 hackathon events as a Pandas dataframe table"
   ]
  },
  {
   "cell_type": "code",
   "execution_count": null,
   "metadata": {},
   "outputs": [],
   "source": [
    "# This is the url you will scrape in this exercise\n",
    "url ='https://hackevents.co/hackathons'"
   ]
  },
  {
   "cell_type": "code",
   "execution_count": null,
   "metadata": {},
   "outputs": [],
   "source": [
    "#your code"
   ]
  },
  {
   "cell_type": "markdown",
   "metadata": {},
   "source": [
    "#### Count number of tweets by a given Twitter account."
   ]
  },
  {
   "cell_type": "markdown",
   "metadata": {},
   "source": [
    "You will need to include a ***try/except block*** for account names not found. \n",
    "<br>***Hint:*** the program should count the number of tweets for any provided account"
   ]
  },
  {
   "cell_type": "code",
   "execution_count": null,
   "metadata": {},
   "outputs": [],
   "source": [
    "# This is the url you will scrape in this exercise \n",
    "# You will need to add the account credentials to this url\n",
    "url = 'https://twitter.com/'"
   ]
  },
  {
   "cell_type": "code",
   "execution_count": 56,
   "metadata": {},
   "outputs": [
    {
     "name": "stdout",
     "output_type": "stream",
     "text": [
      "IMPORTANT: WE CAN'T DO TWITTER EXERCISES UNTIL SELENIUM\n"
     ]
    }
   ],
   "source": [
    "#your code\n",
    "print(\"IMPORTANT: WE CAN'T DO TWITTER EXERCISES UNTIL SELENIUM\")"
   ]
  },
  {
   "cell_type": "markdown",
   "metadata": {},
   "source": [
    "#### Number of followers of a given twitter account"
   ]
  },
  {
   "cell_type": "markdown",
   "metadata": {},
   "source": [
    "You will need to include a ***try/except block*** in case account/s name not found. \n",
    "<br>***Hint:*** the program should count the followers for any provided account"
   ]
  },
  {
   "cell_type": "code",
   "execution_count": null,
   "metadata": {},
   "outputs": [],
   "source": [
    "# This is the url you will scrape in this exercise \n",
    "# You will need to add the account credentials to this url\n",
    "url = 'https://twitter.com/'"
   ]
  },
  {
   "cell_type": "code",
   "execution_count": 57,
   "metadata": {},
   "outputs": [
    {
     "name": "stdout",
     "output_type": "stream",
     "text": [
      "IMPORTANT: WE CAN'T DO TWITTER EXERCISES UNTIL SELENIUM\n"
     ]
    }
   ],
   "source": [
    "#your code\n",
    "print(\"IMPORTANT: WE CAN'T DO TWITTER EXERCISES UNTIL SELENIUM\")"
   ]
  },
  {
   "cell_type": "markdown",
   "metadata": {},
   "source": [
    "#### List all language names and number of related articles in the order they appear in wikipedia.org"
   ]
  },
  {
   "cell_type": "code",
   "execution_count": null,
   "metadata": {},
   "outputs": [],
   "source": [
    "# This is the url you will scrape in this exercise\n",
    "url = 'https://www.wikipedia.org/'"
   ]
  },
  {
   "cell_type": "code",
   "execution_count": null,
   "metadata": {},
   "outputs": [],
   "source": [
    "#your code"
   ]
  },
  {
   "cell_type": "markdown",
   "metadata": {},
   "source": [
    "#### A list with the different kind of datasets available in data.gov.uk "
   ]
  },
  {
   "cell_type": "code",
   "execution_count": null,
   "metadata": {},
   "outputs": [],
   "source": [
    "# This is the url you will scrape in this exercise\n",
    "url = 'https://data.gov.uk/'"
   ]
  },
  {
   "cell_type": "code",
   "execution_count": null,
   "metadata": {},
   "outputs": [],
   "source": [
    "#your code "
   ]
  },
  {
   "cell_type": "markdown",
   "metadata": {},
   "source": [
    "#### Top 10 languages by number of native speakers stored in a Pandas Dataframe"
   ]
  },
  {
   "cell_type": "code",
   "execution_count": null,
   "metadata": {},
   "outputs": [],
   "source": [
    "# This is the url you will scrape in this exercise\n",
    "url = 'https://en.wikipedia.org/wiki/List_of_languages_by_number_of_native_speakers'"
   ]
  },
  {
   "cell_type": "code",
   "execution_count": null,
   "metadata": {},
   "outputs": [],
   "source": [
    "#your code"
   ]
  },
  {
   "cell_type": "markdown",
   "metadata": {},
   "source": [
    "### BONUS QUESTIONS"
   ]
  },
  {
   "cell_type": "markdown",
   "metadata": {},
   "source": [
    "#### Scrape a certain number of tweets of a given Twitter account."
   ]
  },
  {
   "cell_type": "code",
   "execution_count": null,
   "metadata": {},
   "outputs": [],
   "source": [
    "# This is the url you will scrape in this exercise \n",
    "# You will need to add the account credentials to this url\n",
    "url = 'https://twitter.com/'"
   ]
  },
  {
   "cell_type": "code",
   "execution_count": null,
   "metadata": {},
   "outputs": [],
   "source": [
    "# your code"
   ]
  },
  {
   "cell_type": "markdown",
   "metadata": {},
   "source": [
    "#### IMDB's Top 250 data (movie name, Initial release, director name and stars) as a pandas dataframe"
   ]
  },
  {
   "cell_type": "code",
   "execution_count": null,
   "metadata": {},
   "outputs": [],
   "source": [
    "# This is the url you will scrape in this exercise \n",
    "url = 'https://www.imdb.com/chart/top'"
   ]
  },
  {
   "cell_type": "code",
   "execution_count": null,
   "metadata": {},
   "outputs": [],
   "source": [
    "# your code"
   ]
  },
  {
   "cell_type": "markdown",
   "metadata": {},
   "source": [
    "#### Movie name, year and a brief summary of the top 10 random movies (IMDB) as a pandas dataframe."
   ]
  },
  {
   "cell_type": "code",
   "execution_count": null,
   "metadata": {},
   "outputs": [],
   "source": [
    "#This is the url you will scrape in this exercise\n",
    "url = 'http://www.imdb.com/chart/top'"
   ]
  },
  {
   "cell_type": "code",
   "execution_count": null,
   "metadata": {},
   "outputs": [],
   "source": [
    "#your code"
   ]
  },
  {
   "cell_type": "markdown",
   "metadata": {},
   "source": [
    "#### Find the live weather report (temperature, wind speed, description and weather) of a given city."
   ]
  },
  {
   "cell_type": "code",
   "execution_count": null,
   "metadata": {},
   "outputs": [],
   "source": [
    "#https://openweathermap.org/current\n",
    "city = city=input('Enter the city:')\n",
    "url = 'http://api.openweathermap.org/data/2.5/weather?'+'q='+city+'&APPID=b35975e18dc93725acb092f7272cc6b8&units=metric'"
   ]
  },
  {
   "cell_type": "code",
   "execution_count": null,
   "metadata": {},
   "outputs": [],
   "source": [
    "# your code"
   ]
  },
  {
   "cell_type": "markdown",
   "metadata": {},
   "source": [
    "#### Book name,price and stock availability as a pandas dataframe."
   ]
  },
  {
   "cell_type": "code",
   "execution_count": null,
   "metadata": {},
   "outputs": [],
   "source": [
    "# This is the url you will scrape in this exercise. \n",
    "# It is a fictional bookstore created to be scraped. \n",
    "url = 'http://books.toscrape.com/'"
   ]
  },
  {
   "cell_type": "code",
   "execution_count": null,
   "metadata": {},
   "outputs": [],
   "source": [
    "#your code"
   ]
  }
 ],
 "metadata": {
  "kernelspec": {
   "display_name": "Python 3",
   "language": "python",
   "name": "python3"
  },
  "language_info": {
   "codemirror_mode": {
    "name": "ipython",
    "version": 3
   },
   "file_extension": ".py",
   "mimetype": "text/x-python",
   "name": "python",
   "nbconvert_exporter": "python",
   "pygments_lexer": "ipython3",
   "version": "3.7.2"
  }
 },
 "nbformat": 4,
 "nbformat_minor": 2
}