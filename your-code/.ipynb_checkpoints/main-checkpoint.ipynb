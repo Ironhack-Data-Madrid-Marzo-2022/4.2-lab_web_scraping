{
 "cells": [
  {
   "cell_type": "markdown",
   "metadata": {},
   "source": [
    "# Web Scraping Lab\n",
    "\n",
    "You will find in this notebook some scrapy exercises to practise your scraping skills.\n",
    "\n",
    "**Tips:**\n",
    "\n",
    "- Check the response status code for each request to ensure you have obtained the intended contennt.\n",
    "- Print the response text in each request to understand the kind of info you are getting and its format.\n",
    "- Check for patterns in the response text to extract the data/info requested in each question.\n",
    "- Visit each url and take a look at its source through Chrome DevTools. You'll need to identify the html tags, special class names etc. used for the html content you are expected to extract."
   ]
  },
  {
   "cell_type": "markdown",
   "metadata": {},
   "source": [
    "- [Requests library](http://docs.python-requests.org/en/master/#the-user-guide) documentation \n",
    "- [Beautiful Soup Doc](https://www.crummy.com/software/BeautifulSoup/bs4/doc/)\n",
    "- [Urllib](https://docs.python.org/3/library/urllib.html#module-urllib)\n",
    "- [re lib](https://docs.python.org/3/library/re.html)\n",
    "- [lxml lib](https://lxml.de/)\n",
    "- [Scrapy](https://scrapy.org/)\n",
    "- [List of HTTP status codes](https://en.wikipedia.org/wiki/List_of_HTTP_status_codes)\n",
    "- [HTML basics](http://www.simplehtmlguide.com/cheatsheet.php)\n",
    "- [CSS basics](https://www.cssbasics.com/#page_start)"
   ]
  },
  {
   "cell_type": "markdown",
   "metadata": {},
   "source": [
    "#### Below are the libraries and modules you may need. `requests`,  `BeautifulSoup` and `pandas` are imported for you. If you prefer to use additional libraries feel free to uncomment them."
   ]
  },
  {
   "cell_type": "code",
   "execution_count": 1,
   "metadata": {},
   "outputs": [],
   "source": [
    "import requests as req\n",
    "from bs4 import BeautifulSoup as bs\n",
    "import pandas as pd\n",
    "# from pprint import pprint\n",
    "# from lxml import html\n",
    "# from lxml.html import fromstring\n",
    "# import urllib.request\n",
    "# from urllib.request import urlopen\n",
    "# import random\n",
    "# import re\n",
    "# import scrapy"
   ]
  },
  {
   "cell_type": "markdown",
   "metadata": {},
   "source": [
    "#### Download, parse (using BeautifulSoup), and print the content from the Trending Developers page from GitHub:"
   ]
  },
  {
   "cell_type": "code",
   "execution_count": 2,
   "metadata": {},
   "outputs": [],
   "source": [
    "# This is the url you will scrape in this exercise\n",
    "url = 'https://github.com/trending/developers'"
   ]
  },
  {
   "cell_type": "code",
   "execution_count": 3,
   "metadata": {},
   "outputs": [
    {
     "data": {
      "text/plain": [
       "b'\\n\\n<!DOCTYPE html>\\n<html lang=\"en\" data-color-mode=\"auto\" data-light-theme=\"light\" data-dark-theme=\"dark\" >\\n  <head>\\n    <meta charset=\"utf-8\">\\n  <link rel=\"dns-prefetch\" href=\"https://github.githubassets.com\">\\n  <link rel=\"dns-prefetch\" href=\"https://avatars.githubusercontent.com\">\\n  <link rel=\"dns-prefetch\" href=\"https://github-cloud.s3.amazonaws.com\">\\n  <link rel=\"dns-prefetch\" href=\"https://user-images.githubusercontent.com/\">\\n  <link rel=\"preconnect\" href=\"https://github.githubassets.com\" crossorigin>\\n  <link rel=\"preconnect\" href=\"https://avatars.githubusercontent.com\">\\n\\n\\n\\n  <link crossorigin=\"anonymous\" media=\"all\" integrity=\"sha512-ksfTgQOOnE+FFXf+yNfVjKSlEckJAdufFIYGK7ZjRhWcZgzAGcmZqqArTgMLpu90FwthqcCX4ldDgKXbmVMeuQ==\" rel=\"stylesheet\" href=\"https://github.githubassets.com/assets/light-92c7d381038e.css\" /><link crossorigin=\"anonymous\" media=\"all\" integrity=\"sha512-1KkMNn8M/al/dtzBLupRwkIOgnA9MWkm8oxS+solP87jByEvY/g4BmoxLihRogKcX1obPnf4Yp7dI0ZTWO+ljg==\" rel=\"stylesheet\" href=\"ht'"
      ]
     },
     "execution_count": 3,
     "metadata": {},
     "output_type": "execute_result"
    }
   ],
   "source": [
    "html=req.get(url).content\n",
    "html[:1000]"
   ]
  },
  {
   "cell_type": "markdown",
   "metadata": {},
   "source": [
    "#### Display the names of the trending developers retrieved in the previous step.\n",
    "\n",
    "Your output should be a Python list of developer names. Each name should not contain any html tag.\n",
    "\n",
    "**Instructions:**\n",
    "\n",
    "1. Find out the html tag and class names used for the developer names. You can achieve this using Chrome DevTools.\n",
    "\n",
    "1. Use BeautifulSoup to extract all the html elements that contain the developer names.\n",
    "\n",
    "1. Use string manipulation techniques to replace whitespaces and linebreaks (i.e. `\\n`) in the *text* of each html element. Use a list to store the clean names.\n",
    "\n",
    "1. Print the list of names.\n",
    "\n",
    "Your output should look like below:\n",
    "\n",
    "```\n",
    "['trimstray (@trimstray)',\n",
    " 'joewalnes (JoeWalnes)',\n",
    " 'charlax (Charles-AxelDein)',\n",
    " 'ForrestKnight (ForrestKnight)',\n",
    " 'revery-ui (revery-ui)',\n",
    " 'alibaba (Alibaba)',\n",
    " 'Microsoft (Microsoft)',\n",
    " 'github (GitHub)',\n",
    " 'facebook (Facebook)',\n",
    " 'boazsegev (Bo)',\n",
    " 'google (Google)',\n",
    " 'cloudfetch',\n",
    " 'sindresorhus (SindreSorhus)',\n",
    " 'tensorflow',\n",
    " 'apache (TheApacheSoftwareFoundation)',\n",
    " 'DevonCrawford (DevonCrawford)',\n",
    " 'ARMmbed (ArmMbed)',\n",
    " 'vuejs (vuejs)',\n",
    " 'fastai (fast.ai)',\n",
    " 'QiShaoXuan (Qi)',\n",
    " 'joelparkerhenderson (JoelParkerHenderson)',\n",
    " 'torvalds (LinusTorvalds)',\n",
    " 'CyC2018',\n",
    " 'komeiji-satori (神楽坂覚々)',\n",
    " 'script-8']\n",
    " ```"
   ]
  },
  {
   "cell_type": "code",
   "execution_count": 4,
   "metadata": {},
   "outputs": [
    {
     "data": {
      "text/plain": [
       "<h1 class=\"h3 lh-condensed\">\n",
       "<a data-hydro-click='{\"event_type\":\"explore.click\",\"payload\":{\"click_context\":\"TRENDING_DEVELOPERS_PAGE\",\"click_target\":\"OWNER\",\"click_visual_representation\":\"TRENDING_DEVELOPER\",\"actor_id\":null,\"record_id\":1478487,\"originating_url\":\"https://github.com/trending/developers\",\"user_id\":null}}' data-hydro-click-hmac=\"2da9a878544fc4f6f76b28b2e1b71ee2cbf29b8dac7b24634c0334b3313bb4f9\" data-view-component=\"true\" href=\"/marten-seemann\">\n",
       "  \n",
       "            Marten Seemann\n",
       "\n",
       "  \n",
       "</a> </h1>"
      ]
     },
     "execution_count": 4,
     "metadata": {},
     "output_type": "execute_result"
    }
   ],
   "source": [
    "sopa=bs(html,'html.parser')\n",
    "tabla1=sopa.find_all('h1',{'class':'h3 lh-condensed'})\n",
    "tabla1[0]"
   ]
  },
  {
   "cell_type": "code",
   "execution_count": 5,
   "metadata": {},
   "outputs": [
    {
     "data": {
      "text/plain": [
       "<p class=\"f4 text-normal mb-1\">\n",
       "<a class=\"Link--secondary\" data-hydro-click='{\"event_type\":\"explore.click\",\"payload\":{\"click_context\":\"TRENDING_DEVELOPERS_PAGE\",\"click_target\":\"OWNER\",\"click_visual_representation\":\"TRENDING_DEVELOPER\",\"actor_id\":null,\"record_id\":1478487,\"originating_url\":\"https://github.com/trending/developers\",\"user_id\":null}}' data-hydro-click-hmac=\"2da9a878544fc4f6f76b28b2e1b71ee2cbf29b8dac7b24634c0334b3313bb4f9\" data-view-component=\"true\" href=\"/marten-seemann\">\n",
       "  \n",
       "              marten-seemann\n",
       "\n",
       "  \n",
       "</a> </p>"
      ]
     },
     "execution_count": 5,
     "metadata": {},
     "output_type": "execute_result"
    }
   ],
   "source": [
    "sopa=bs(html,'html.parser')\n",
    "tabla2=sopa.find_all('p', {'class':'f4 text-normal mb-1'})\n",
    "tabla2[0]"
   ]
  },
  {
   "cell_type": "code",
   "execution_count": 6,
   "metadata": {},
   "outputs": [
    {
     "data": {
      "text/plain": [
       "'MartenSeemann'"
      ]
     },
     "execution_count": 6,
     "metadata": {},
     "output_type": "execute_result"
    }
   ],
   "source": [
    "conexion1=[f.text.replace('\\n','').replace(' ','') for f in tabla1]\n",
    "conexion1[0]"
   ]
  },
  {
   "cell_type": "code",
   "execution_count": 7,
   "metadata": {},
   "outputs": [
    {
     "data": {
      "text/plain": [
       "'marten-seemann'"
      ]
     },
     "execution_count": 7,
     "metadata": {},
     "output_type": "execute_result"
    }
   ],
   "source": [
    "conexion2=[f.text.replace('\\n','').replace(' ','') for f in tabla2]\n",
    "conexion2[0]    "
   ]
  },
  {
   "cell_type": "code",
   "execution_count": 8,
   "metadata": {},
   "outputs": [
    {
     "name": "stdout",
     "output_type": "stream",
     "text": [
      "[('MartenSeemann', 'marten-seemann'), ('BorisDayma', 'borisdayma'), ('AmruthPillai', 'AmruthPillai'), ('ArielMashraki', 'a8m'), ('Álvaro', 'alvarotrigo'), (\"BrunoD'Luka\", 'bdlukaa'), ('YoniGoldberg', 'goldbergyoni'), ('AdrianWälchli', 'awaelchli'), ('YairMorgenstern', 'yairm210'), ('FlorianRoth', 'Neo23x0'), ('OlegGrenrus', 'phadej'), ('FrançoisChollet', 'fchollet'), ('StefanProdan', 'stefanprodan'), ('DavidSherret', 'dsherret'), ('FrancoVictorio', 'fvictorio'), ('MichaelShilman', 'shilman'), ('OlivierHalligon', 'AliSoftware'), ('TimArney', 'timarney'), ('@greweb', 'gre'), ('WaleedKhan', 'arxanas'), ('dan', 'gaearon'), ('NathanShively-Sanders', 'sandersn'), ('BrianCoca', 'bcoca'), ('RobinCole', 'robmarkcole'), ('steveoh', 'steveoh')]\n"
     ]
    }
   ],
   "source": [
    "nombres=list(zip(conexion1,conexion2))\n",
    "print(nombres)"
   ]
  },
  {
   "cell_type": "markdown",
   "metadata": {},
   "source": [
    "#### Display the trending Python repositories in GitHub\n",
    "\n",
    "The steps to solve this problem is similar to the previous one except that you need to find out the repository names instead of developer names."
   ]
  },
  {
   "cell_type": "code",
   "execution_count": 9,
   "metadata": {},
   "outputs": [],
   "source": [
    "# This is the url you will scrape in this exercise\n",
    "url2 = 'https://github.com/trending/python?since=daily'"
   ]
  },
  {
   "cell_type": "code",
   "execution_count": 10,
   "metadata": {},
   "outputs": [
    {
     "data": {
      "text/plain": [
       "b'\\n\\n<!DOCTYPE html>\\n<html lang=\"en\" data-color-mode=\"auto\" data-light-theme=\"light\" data-dark-theme=\"dark\" >\\n  <head>\\n    <meta charset=\"utf-8\">\\n  <link rel=\"dns-prefetch\" href=\"https://github.githubassets.com\">\\n  <link rel=\"dns-prefetch\" href=\"https://avatars.githubusercontent.com\">\\n  <link rel=\"dns-prefetch\" href=\"https://github-cloud.s3.amazonaws.com\">\\n  <link rel=\"dns-prefetch\" href=\"https://user-images.githubusercontent.com/\">\\n  <link rel=\"preconnect\" href=\"https://github.githubassets.com\" crossorigin>\\n  <link rel=\"preconnect\" href=\"https://avatars.githubusercontent.com\">\\n\\n\\n\\n  <link crossorigin=\"anonymous\" media=\"all\" integrity=\"sha512-ksfTgQOOnE+FFXf+yNfVjKSlEckJAdufFIYGK7ZjRhWcZgzAGcmZqqArTgMLpu90FwthqcCX4ldDgKXbmVMeuQ==\" rel=\"stylesheet\" href=\"https://github.githubassets.com/assets/light-92c7d381038e.css\" /><link crossorigin=\"anonymous\" media=\"all\" integrity=\"sha512-1KkMNn8M/al/dtzBLupRwkIOgnA9MWkm8oxS+solP87jByEvY/g4BmoxLihRogKcX1obPnf4Yp7dI0ZTWO+ljg==\" rel=\"stylesheet\" href=\"ht'"
      ]
     },
     "execution_count": 10,
     "metadata": {},
     "output_type": "execute_result"
    }
   ],
   "source": [
    "html=req.get(url2).content\n",
    "html[:1000]"
   ]
  },
  {
   "cell_type": "code",
   "execution_count": 11,
   "metadata": {},
   "outputs": [
    {
     "data": {
      "text/plain": [
       "<h1 class=\"h3 lh-condensed\">\n",
       "<a data-hydro-click='{\"event_type\":\"explore.click\",\"payload\":{\"click_context\":\"TRENDING_REPOSITORIES_PAGE\",\"click_target\":\"REPOSITORY\",\"click_visual_representation\":\"REPOSITORY_NAME_HEADING\",\"actor_id\":null,\"record_id\":54346799,\"originating_url\":\"https://github.com/trending/python?since=daily\",\"user_id\":null}}' data-hydro-click-hmac=\"b17f74c36645c83bc024c473a2da97ed79d54a978b739760186fb995b3f5e647\" data-view-component=\"true\" href=\"/public-apis/public-apis\">\n",
       "<svg aria-hidden=\"true\" class=\"octicon octicon-repo mr-1 color-fg-muted\" data-view-component=\"true\" height=\"16\" version=\"1.1\" viewbox=\"0 0 16 16\" width=\"16\">\n",
       "<path d=\"M2 2.5A2.5 2.5 0 014.5 0h8.75a.75.75 0 01.75.75v12.5a.75.75 0 01-.75.75h-2.5a.75.75 0 110-1.5h1.75v-2h-8a1 1 0 00-.714 1.7.75.75 0 01-1.072 1.05A2.495 2.495 0 012 11.5v-9zm10.5-1V9h-8c-.356 0-.694.074-1 .208V2.5a1 1 0 011-1h8zM5 12.25v3.25a.25.25 0 00.4.2l1.45-1.087a.25.25 0 01.3 0L8.6 15.7a.25.25 0 00.4-.2v-3.25a.25.25 0 00-.25-.25h-3.5a.25.25 0 00-.25.25z\" fill-rule=\"evenodd\"></path>\n",
       "</svg>\n",
       "<span class=\"text-normal\" data-view-component=\"true\">\n",
       "        public-apis /\n",
       "</span>\n",
       "      public-apis\n",
       "\n",
       "  \n",
       "</a> </h1>"
      ]
     },
     "execution_count": 11,
     "metadata": {},
     "output_type": "execute_result"
    }
   ],
   "source": [
    "sopa2=bs(html,'html.parser')\n",
    "repo=sopa2.find_all('h1',{'h3 lh-condensed'})\n",
    "repo[0]"
   ]
  },
  {
   "cell_type": "code",
   "execution_count": 12,
   "metadata": {},
   "outputs": [
    {
     "data": {
      "text/plain": [
       "['public-apis/public-apis',\n",
       " 'open-mmlab/mmdeploy',\n",
       " 'huggingface/transformers',\n",
       " 'fullhunt/spring4shell-scan',\n",
       " 'triton-inference-server/server',\n",
       " 'vinta/awesome-python',\n",
       " 'hpcaitech/ColossalAI',\n",
       " 'microsoft/nni',\n",
       " 'pinry/pinry',\n",
       " 'rly0nheart/octosuite',\n",
       " 'lucidrains/DALLE2-pytorch',\n",
       " 'google-research/maxim',\n",
       " 'open-mmlab/mmsegmentation',\n",
       " 'bregman-arie/devops-exercises',\n",
       " 'obss/sahi',\n",
       " 'borisdayma/dalle-mini',\n",
       " 'lucidrains/PaLM-pytorch',\n",
       " 'awslabs/gluon-ts',\n",
       " 'facebookresearch/pytorch3d',\n",
       " 'bentoml/BentoML',\n",
       " 'jina-ai/clip-as-service',\n",
       " 'open-mmlab/mmdetection',\n",
       " 'python/cpython',\n",
       " 'uber/causalml',\n",
       " 'facebookresearch/ParlAI']"
      ]
     },
     "execution_count": 12,
     "metadata": {},
     "output_type": "execute_result"
    }
   ],
   "source": [
    "con=[g.text.replace('\\n','').replace(' ','') for g in repo]\n",
    "con"
   ]
  },
  {
   "cell_type": "markdown",
   "metadata": {},
   "source": [
    "#### Display all the image links from Walt Disney wikipedia page"
   ]
  },
  {
   "cell_type": "code",
   "execution_count": 13,
   "metadata": {},
   "outputs": [],
   "source": [
    "# This is the url you will scrape in this exercise\n",
    "url3= 'https://en.wikipedia.org/wiki/Walt_Disney'"
   ]
  },
  {
   "cell_type": "code",
   "execution_count": 14,
   "metadata": {},
   "outputs": [
    {
     "data": {
      "text/plain": [
       "b'<!DOCTYPE html>\\n<html class=\"client-nojs\" lang=\"en\" dir=\"ltr\">\\n<head>\\n<meta charset=\"UTF-8\"/>\\n<title>Walt Disney - Wikipedia</title>\\n<script>document.documentElement.className=\"client-js\";RLCONF={\"wgBreakFrames\":false,\"wgSeparatorTransformTable\":[\"\",\"\"],\"wgDigitTransformTable\":[\"\",\"\"],\"wgDefaultDateFormat\":\"dmy\",\"wgMonthNames\":[\"\",\"January\",\"February\",\"March\",\"April\",\"May\",\"June\",\"July\",\"August\",\"September\",\"October\",\"November\",\"December\"],\"wgRequestId\":\"f5fda665-e874-471c-afb8-7668d931b92b\",\"wgCSPNonce\":false,\"wgCanonicalNamespace\":\"\",\"wgCanonicalSpecialPageName\":false,\"wgNamespaceNumber\":0,\"wgPageName\":\"Walt_Disney\",\"wgTitle\":\"Walt Disney\",\"wgCurRevisionId\":1081000802,\"wgRevisionId\":1081000802,\"wgArticleId\":32917,\"wgIsArticle\":true,\"wgIsRedirect\":false,\"wgAction\":\"view\",\"wgUserName\":null,\"wgUserGroups\":[\"*\"],\"wgCategories\":[\"Pages containing links to subscription-only content\",\"Articles with short description\",\"Short description is different from Wikidata\",\"Wikipedia indefinitely mov'"
      ]
     },
     "execution_count": 14,
     "metadata": {},
     "output_type": "execute_result"
    }
   ],
   "source": [
    "html=req.get(url3).content\n",
    "html[:1000]"
   ]
  },
  {
   "cell_type": "code",
   "execution_count": 15,
   "metadata": {},
   "outputs": [
    {
     "data": {
      "text/plain": [
       "<div class=\"thumbinner\" style=\"width:222px;\"><a class=\"image\" href=\"/wiki/File:Walt_Disney_envelope_ca._1921.jpg\"><img alt=\"\" class=\"thumbimage\" data-file-height=\"1086\" data-file-width=\"1576\" decoding=\"async\" height=\"152\" src=\"//upload.wikimedia.org/wikipedia/commons/thumb/c/c4/Walt_Disney_envelope_ca._1921.jpg/220px-Walt_Disney_envelope_ca._1921.jpg\" srcset=\"//upload.wikimedia.org/wikipedia/commons/thumb/c/c4/Walt_Disney_envelope_ca._1921.jpg/330px-Walt_Disney_envelope_ca._1921.jpg 1.5x, //upload.wikimedia.org/wikipedia/commons/thumb/c/c4/Walt_Disney_envelope_ca._1921.jpg/440px-Walt_Disney_envelope_ca._1921.jpg 2x\" width=\"220\"/></a> <div class=\"thumbcaption\"><div class=\"magnify\"><a class=\"internal\" href=\"/wiki/File:Walt_Disney_envelope_ca._1921.jpg\" title=\"Enlarge\"></a></div>Walt Disney's business envelope featured a self-portrait <abbr title=\"circa\">c.</abbr><span style=\"white-space:nowrap;\"> 1921</span></div></div>"
      ]
     },
     "execution_count": 15,
     "metadata": {},
     "output_type": "execute_result"
    }
   ],
   "source": [
    "sopa3=bs(html,'html.parser')\n",
    "img=sopa3.find_all('div',{'class':'thumbinner'})\n",
    "img[0]"
   ]
  },
  {
   "cell_type": "code",
   "execution_count": 16,
   "metadata": {},
   "outputs": [
    {
     "data": {
      "text/plain": [
       "'//upload.wikimedia.org/wikipedia/en/thumb/e/e7/Cscr-featured.svg/20px-Cscr-featured.svg.png'"
      ]
     },
     "execution_count": 16,
     "metadata": {},
     "output_type": "execute_result"
    }
   ],
   "source": [
    "img2=sopa3.find_all('img')\n",
    "img2[0]['src']"
   ]
  },
  {
   "cell_type": "code",
   "execution_count": 17,
   "metadata": {},
   "outputs": [
    {
     "data": {
      "text/plain": [
       "['https://upload.wikimedia.org/wikipedia/en/thumb/e/e7/Cscr-featured.svg/20px-Cscr-featured.svg.png',\n",
       " 'https://upload.wikimedia.org/wikipedia/en/thumb/8/8c/Extended-protection-shackle.svg/20px-Extended-protection-shackle.svg.png',\n",
       " 'https://upload.wikimedia.org/wikipedia/commons/thumb/d/df/Walt_Disney_1946.JPG/220px-Walt_Disney_1946.JPG',\n",
       " 'https://upload.wikimedia.org/wikipedia/commons/thumb/8/87/Walt_Disney_1942_signature.svg/150px-Walt_Disney_1942_signature.svg.png',\n",
       " 'https://upload.wikimedia.org/wikipedia/commons/thumb/c/c4/Walt_Disney_envelope_ca._1921.jpg/220px-Walt_Disney_envelope_ca._1921.jpg']"
      ]
     },
     "execution_count": 17,
     "metadata": {},
     "output_type": "execute_result"
    }
   ],
   "source": [
    "con_img=[h['src'].replace('//','https://') for h in img2]\n",
    "con_img[:5]"
   ]
  },
  {
   "cell_type": "markdown",
   "metadata": {},
   "source": [
    "#### Retrieve an arbitary Wikipedia page of \"Python\" and create a list of links on that page"
   ]
  },
  {
   "cell_type": "code",
   "execution_count": 18,
   "metadata": {},
   "outputs": [],
   "source": [
    "# This is the url you will scrape in this exercise\n",
    "url4 ='https://en.wikipedia.org/wiki/Python' "
   ]
  },
  {
   "cell_type": "code",
   "execution_count": 19,
   "metadata": {},
   "outputs": [
    {
     "data": {
      "text/plain": [
       "b'<!DOCTYPE html>\\n<html class=\"client-nojs\" lang=\"en\" dir=\"ltr\">\\n<head>\\n<meta charset=\"UTF-8\"/>\\n<title>Python - Wikipedia</title>\\n<script>document.documentElement.className=\"client-js\";RLCONF={\"wgBreakFrames\":false,\"wgSeparatorTransformTable\":[\"\",\"\"],\"wgDigitTransformTable\":[\"\",\"\"],\"wgDefaultDateFormat\":\"dmy\",\"wgMonthNames\":[\"\",\"January\",\"February\",\"March\",\"April\",\"May\",\"June\",\"July\",\"August\",\"September\",\"October\",\"November\",\"December\"],\"wgRequestId\":\"33048b8d-8da1-4e16-862d-d397712f72d8\",\"wgCSPNonce\":false,\"wgCanonicalNamespace\":\"\",\"wgCanonicalSpecialPageName\":false,\"wgNamespaceNumber\":0,\"wgPageName\":\"Python\",\"wgTitle\":\"Python\",\"wgCurRevisionId\":1077300299,\"wgRevisionId\":1077300299,\"wgArticleId\":46332325,\"wgIsArticle\":true,\"wgIsRedirect\":false,\"wgAction\":\"view\",\"wgUserName\":null,\"wgUserGroups\":[\"*\"],\"wgCategories\":[\"Disambiguation pages with short descriptions\",\"Short description is different from Wikidata\",\"All article disambiguation pages\",\"All disambiguation pages\",\"Animal common nam'"
      ]
     },
     "execution_count": 19,
     "metadata": {},
     "output_type": "execute_result"
    }
   ],
   "source": [
    "html=req.get(url4).content\n",
    "html[:1000]"
   ]
  },
  {
   "cell_type": "code",
   "execution_count": 20,
   "metadata": {},
   "outputs": [
    {
     "data": {
      "text/plain": [
       "<div class=\"mw-parser-output\"><table class=\"mbox-small plainlinks sistersitebox\" role=\"presentation\" style=\"background-color:#f9f9f9;border:1px solid #aaa;color:#000\">\n",
       "<tbody><tr>\n",
       "<td class=\"mbox-image\"><img alt=\"\" class=\"noviewer\" data-file-height=\"512\" data-file-width=\"512\" decoding=\"async\" height=\"40\" src=\"//upload.wikimedia.org/wikipedia/commons/thumb/9/99/Wiktionary-logo-en-v2.svg/40px-Wiktionary-logo-en-v2.svg.png\" srcset=\"//upload.wikimedia.org/wikipedia/commons/thumb/9/99/Wiktionary-logo-en-v2.svg/60px-Wiktionary-logo-en-v2.svg.png 1.5x, //upload.wikimedia.org/wikipedia/commons/thumb/9/99/Wiktionary-logo-en-v2.svg/80px-Wiktionary-logo-en-v2.svg.png 2x\" width=\"40\"/></td>\n",
       "<td class=\"mbox-text plainlist\">Look up <i><b><a class=\"extiw\" href=\"https://en.wiktionary.org/wiki/Python\" title=\"wiktionary:Python\">Python</a></b></i> or <i><b><a class=\"extiw\" href=\"https://en.wiktionary.org/wiki/python\" title=\"wiktionary:python\">python</a></b></i> in Wiktionary, the free dictionary.</td></tr>\n",
       "</tbody></table>\n",
       "<p><b>Python</b> may refer to:\n",
       "</p>\n",
       "<ul><li><a href=\"/wiki/Pythonidae\" title=\"Pythonidae\">Pythonidae</a>, a family of nonvenomous snakes found in Africa, Asia, and Australia\n",
       "<ul><li><a href=\"/wiki/Python_(genus)\" title=\"Python (genus)\"><i>Python</i> (genus)</a>, a genus of nonvenomous Pythonidae found in Africa and Asia</li></ul></li></ul>\n",
       "<style data-mw-deduplicate=\"TemplateStyles:r1044870489\">@media all and (max-width:720px){body.skin-minerva .mw-parser-output .tocright{display:none}.mw-parser-output .tocright{width:100%!important}}@media all and (min-width:720px){.mw-parser-output .tocright{float:right;clear:right;width:auto;margin:0 0 0.5em 1em}.mw-parser-output .tocright-clear-left{clear:left}.mw-parser-output .tocright-clear-both{clear:both}.mw-parser-output .tocright-clear-none{clear:none}}</style><div class=\"tocright\"><div aria-labelledby=\"mw-toc-heading\" class=\"toc\" id=\"toc\" role=\"navigation\"><input class=\"toctogglecheckbox\" id=\"toctogglecheckbox\" role=\"button\" style=\"display:none\" type=\"checkbox\"/><div class=\"toctitle\" dir=\"ltr\" lang=\"en\"><h2 id=\"mw-toc-heading\">Contents</h2><span class=\"toctogglespan\"><label class=\"toctogglelabel\" for=\"toctogglecheckbox\"></label></span></div>\n",
       "<ul>\n",
       "<li class=\"toclevel-1 tocsection-1\"><a href=\"#Computing\"><span class=\"tocnumber\">1</span> <span class=\"toctext\">Computing</span></a></li>\n",
       "<li class=\"toclevel-1 tocsection-2\"><a href=\"#People\"><span class=\"tocnumber\">2</span> <span class=\"toctext\">People</span></a></li>\n",
       "<li class=\"toclevel-1 tocsection-3\"><a href=\"#Roller_coasters\"><span class=\"tocnumber\">3</span> <span class=\"toctext\">Roller coasters</span></a></li>\n",
       "<li class=\"toclevel-1 tocsection-4\"><a href=\"#Vehicles\"><span class=\"tocnumber\">4</span> <span class=\"toctext\">Vehicles</span></a></li>\n",
       "<li class=\"toclevel-1 tocsection-5\"><a href=\"#Weaponry\"><span class=\"tocnumber\">5</span> <span class=\"toctext\">Weaponry</span></a></li>\n",
       "<li class=\"toclevel-1 tocsection-6\"><a href=\"#Other_uses\"><span class=\"tocnumber\">6</span> <span class=\"toctext\">Other uses</span></a></li>\n",
       "<li class=\"toclevel-1 tocsection-7\"><a href=\"#See_also\"><span class=\"tocnumber\">7</span> <span class=\"toctext\">See also</span></a></li>\n",
       "</ul>\n",
       "</div>\n",
       "</div>\n",
       "<h2><span class=\"mw-headline\" id=\"Computing\">Computing</span><span class=\"mw-editsection\"><span class=\"mw-editsection-bracket\">[</span><a href=\"/w/index.php?title=Python&amp;action=edit&amp;section=1\" title=\"Edit section: Computing\">edit</a><span class=\"mw-editsection-bracket\">]</span></span></h2>\n",
       "<ul><li><a href=\"/wiki/Python_(programming_language)\" title=\"Python (programming language)\">Python (programming language)</a></li>\n",
       "<li>Python, a native code compiler for <a href=\"/wiki/CMU_Common_Lisp\" title=\"CMU Common Lisp\">CMU Common Lisp</a></li>\n",
       "<li>Python, the internal project name for the <a href=\"/wiki/PERQ#PERQ_3\" title=\"PERQ\">PERQ 3</a> computer workstation</li></ul>\n",
       "<h2><span class=\"mw-headline\" id=\"People\">People</span><span class=\"mw-editsection\"><span class=\"mw-editsection-bracket\">[</span><a href=\"/w/index.php?title=Python&amp;action=edit&amp;section=2\" title=\"Edit section: People\">edit</a><span class=\"mw-editsection-bracket\">]</span></span></h2>\n",
       "<ul><li><a href=\"/wiki/Python_of_Aenus\" title=\"Python of Aenus\">Python of Aenus</a> (4th-century BCE), student of Plato</li>\n",
       "<li><a href=\"/wiki/Python_(painter)\" title=\"Python (painter)\">Python (painter)</a>, (ca. 360–320 BCE) vase painter in Poseidonia</li>\n",
       "<li><a href=\"/wiki/Python_of_Byzantium\" title=\"Python of Byzantium\">Python of Byzantium</a>, orator, diplomat of Philip II of Macedon</li>\n",
       "<li><a href=\"/wiki/Python_of_Catana\" title=\"Python of Catana\">Python of Catana</a>, poet who accompanied Alexander the Great</li>\n",
       "<li><a href=\"/wiki/Python_Anghelo\" title=\"Python Anghelo\">Python Anghelo</a> (1954–2014) Romanian graphic artist</li></ul>\n",
       "<h2><span class=\"mw-headline\" id=\"Roller_coasters\">Roller coasters</span><span class=\"mw-editsection\"><span class=\"mw-editsection-bracket\">[</span><a href=\"/w/index.php?title=Python&amp;action=edit&amp;section=3\" title=\"Edit section: Roller coasters\">edit</a><span class=\"mw-editsection-bracket\">]</span></span></h2>\n",
       "<ul><li><a href=\"/wiki/Python_(Efteling)\" title=\"Python (Efteling)\">Python (Efteling)</a>, a roller coaster in the Netherlands</li>\n",
       "<li><a href=\"/wiki/Python_(Busch_Gardens_Tampa_Bay)\" title=\"Python (Busch Gardens Tampa Bay)\">Python (Busch Gardens Tampa Bay)</a>, a defunct roller coaster</li>\n",
       "<li><a href=\"/wiki/Python_(Coney_Island,_Cincinnati,_Ohio)\" title=\"Python (Coney Island, Cincinnati, Ohio)\">Python (Coney Island, Cincinnati, Ohio)</a>, a steel roller coaster</li></ul>\n",
       "<h2><span class=\"mw-headline\" id=\"Vehicles\">Vehicles</span><span class=\"mw-editsection\"><span class=\"mw-editsection-bracket\">[</span><a href=\"/w/index.php?title=Python&amp;action=edit&amp;section=4\" title=\"Edit section: Vehicles\">edit</a><span class=\"mw-editsection-bracket\">]</span></span></h2>\n",
       "<ul><li><a href=\"/wiki/Python_(automobile_maker)\" title=\"Python (automobile maker)\">Python (automobile maker)</a>, an Australian car company</li>\n",
       "<li><a href=\"/wiki/Python_(Ford_prototype)\" title=\"Python (Ford prototype)\">Python (Ford prototype)</a>, a Ford prototype sports car</li></ul>\n",
       "<h2><span class=\"mw-headline\" id=\"Weaponry\">Weaponry</span><span class=\"mw-editsection\"><span class=\"mw-editsection-bracket\">[</span><a href=\"/w/index.php?title=Python&amp;action=edit&amp;section=5\" title=\"Edit section: Weaponry\">edit</a><span class=\"mw-editsection-bracket\">]</span></span></h2>\n",
       "<ul><li><a href=\"/wiki/Python_(missile)\" title=\"Python (missile)\">Python (missile)</a>, a series of Israeli air-to-air missiles</li>\n",
       "<li><a href=\"/wiki/Python_(nuclear_primary)\" title=\"Python (nuclear primary)\">Python (nuclear primary)</a>, a gas-boosted fission primary used in thermonuclear weapons</li>\n",
       "<li><a href=\"/wiki/Colt_Python\" title=\"Colt Python\">Colt Python</a>, a revolver</li></ul>\n",
       "<h2><span class=\"mw-headline\" id=\"Other_uses\">Other uses</span><span class=\"mw-editsection\"><span class=\"mw-editsection-bracket\">[</span><a href=\"/w/index.php?title=Python&amp;action=edit&amp;section=6\" title=\"Edit section: Other uses\">edit</a><span class=\"mw-editsection-bracket\">]</span></span></h2>\n",
       "<ul><li><a href=\"/wiki/PYTHON\" title=\"PYTHON\">PYTHON</a>, a British nuclear war contingency plan</li>\n",
       "<li><a href=\"/wiki/Python_(film)\" title=\"Python (film)\"><i>Python</i> (film)</a>, a 2000 horror film by Richard Clabaugh</li>\n",
       "<li><a href=\"/wiki/Python_(mythology)\" title=\"Python (mythology)\">Python (mythology)</a>, a mythical serpent</li>\n",
       "<li><a href=\"/wiki/Monty_Python\" title=\"Monty Python\">Monty Python</a> or the Pythons, a British comedy group\n",
       "<ul><li><a href=\"/wiki/Python_(Monty)_Pictures\" title=\"Python (Monty) Pictures\">Python (Monty) Pictures</a>, a company owned by the troupe's surviving members</li></ul></li>\n",
       "<li><i>Python</i>, a work written by philosopher <a href=\"/wiki/Timon_of_Phlius\" title=\"Timon of Phlius\">Timon of Phlius</a></li></ul>\n",
       "<h2><span class=\"mw-headline\" id=\"See_also\">See also</span><span class=\"mw-editsection\"><span class=\"mw-editsection-bracket\">[</span><a href=\"/w/index.php?title=Python&amp;action=edit&amp;section=7\" title=\"Edit section: See also\">edit</a><span class=\"mw-editsection-bracket\">]</span></span></h2>\n",
       "<ul><li><a href=\"/wiki/Cython\" title=\"Cython\">Cython</a>, a programming language superset of Python</li>\n",
       "<li><i><a href=\"/wiki/Pyton\" title=\"Pyton\">Pyton</a></i>, a Norwegian magazine</li>\n",
       "<li><a href=\"/wiki/Pithon\" title=\"Pithon\">Pithon</a></li></ul>\n",
       "<div class=\"shortdescription nomobile noexcerpt noprint searchaux\" style=\"display:none\">Topics referred to by the same term</div>\n",
       "<style data-mw-deduplicate=\"TemplateStyles:r1008001242\">.mw-parser-output .dmbox{display:flex;align-items:center;clear:both;margin:0.9em 1em;border-top:1px solid #ccc;border-bottom:1px solid #ccc;padding:0.25em 0.35em;font-style:italic}.mw-parser-output .dmbox>*{flex-shrink:0;margin:0 0.25em;display:inline}.mw-parser-output .dmbox-body{flex-grow:1;flex-shrink:1;padding:0.1em 0}</style>\n",
       "<div class=\"metadata plainlinks dmbox dmbox-disambig\" id=\"disambigbox\" role=\"note\"><a class=\"image\" href=\"/wiki/File:Disambig_gray.svg\"><img alt=\"Disambiguation icon\" data-file-height=\"168\" data-file-width=\"220\" decoding=\"async\" height=\"23\" src=\"//upload.wikimedia.org/wikipedia/en/thumb/5/5f/Disambig_gray.svg/30px-Disambig_gray.svg.png\" srcset=\"//upload.wikimedia.org/wikipedia/en/thumb/5/5f/Disambig_gray.svg/45px-Disambig_gray.svg.png 1.5x, //upload.wikimedia.org/wikipedia/en/thumb/5/5f/Disambig_gray.svg/60px-Disambig_gray.svg.png 2x\" width=\"30\"/></a><div class=\"dmbox-body\"> This <a href=\"/wiki/Help:Disambiguation\" title=\"Help:Disambiguation\">disambiguation</a> page lists  articles associated with the title <b>Python</b>.<br/><small>If an <a class=\"external text\" href=\"https://en.wikipedia.org/w/index.php?title=Special:WhatLinksHere/Python&amp;namespace=0\">internal link</a> led you here, you may wish to change the link to point directly to the intended article.</small> </div>\n",
       "</div>\n",
       "<!-- \n",
       "NewPP limit report\n",
       "Parsed by mw1436\n",
       "Cached time: 20220405163154\n",
       "Cache expiry: 1814400\n",
       "Reduced expiry: false\n",
       "Complications: []\n",
       "CPU time usage: 0.153 seconds\n",
       "Real time usage: 0.206 seconds\n",
       "Preprocessor visited node count: 1327/1000000\n",
       "Post‐expand include size: 6487/2097152 bytes\n",
       "Template argument size: 1380/2097152 bytes\n",
       "Highest expansion depth: 13/100\n",
       "Expensive parser function count: 1/500\n",
       "Unstrip recursion depth: 0/20\n",
       "Unstrip post‐expand size: 946/5000000 bytes\n",
       "Lua time usage: 0.039/10.000 seconds\n",
       "Lua memory usage: 1422762/52428800 bytes\n",
       "Number of Wikibase entities loaded: 0/400\n",
       "-->\n",
       "<!--\n",
       "Transclusion expansion time report (%,ms,calls,template)\n",
       "100.00%  173.804      1 -total\n",
       " 67.99%  118.178      1 Template:Disambiguation\n",
       " 34.90%   60.663      1 Template:Dmbox\n",
       " 24.25%   42.141      1 Template:Wiktionary\n",
       " 22.36%   38.859      1 Template:Sister_project\n",
       " 19.73%   34.294      4 Template:Main_other\n",
       " 18.03%   31.343      1 Template:Side_box\n",
       " 18.03%   31.329      1 Template:Disambiguation_page_short_description\n",
       " 16.92%   29.402      1 Template:Short_description\n",
       " 12.65%   21.986      1 Template:Category_handler\n",
       "-->\n",
       "<!-- Saved in parser cache with key enwiki:pcache:idhash:46332325-0!canonical and timestamp 20220405163154 and revision id 1077300299. Serialized with JSON.\n",
       " -->\n",
       "</div>"
      ]
     },
     "execution_count": 20,
     "metadata": {},
     "output_type": "execute_result"
    }
   ],
   "source": [
    "sopa4=bs(html,'html.parser')\n",
    "link=sopa4.find_all('div',{'class':'mw-parser-output'})\n",
    "link[0]"
   ]
  },
  {
   "cell_type": "code",
   "execution_count": 21,
   "metadata": {},
   "outputs": [
    {
     "data": {
      "text/plain": [
       "'https://en.wiktionary.org/wiki/Python'"
      ]
     },
     "execution_count": 21,
     "metadata": {},
     "output_type": "execute_result"
    }
   ],
   "source": [
    "link2=sopa4.find_all('a',{'href':True,'title':True})\n",
    "link2[0]['href']"
   ]
  },
  {
   "cell_type": "code",
   "execution_count": 22,
   "metadata": {},
   "outputs": [
    {
     "data": {
      "text/plain": [
       "['https://en.wiktionary.org/wiki/Python',\n",
       " 'https://en.wiktionary.org/wiki/python',\n",
       " '/wiki/Pythonidae',\n",
       " '/wiki/Python_(genus)',\n",
       " '/w/index.php?title=Python&action=edit&section=1']"
      ]
     },
     "execution_count": 22,
     "metadata": {},
     "output_type": "execute_result"
    }
   ],
   "source": [
    "con_link=[j['href'] for j in link2]\n",
    "con_link[:5]"
   ]
  },
  {
   "cell_type": "markdown",
   "metadata": {},
   "source": [
    "#### Number of Titles that have changed in the United States Code since its last release point "
   ]
  },
  {
   "cell_type": "code",
   "execution_count": 23,
   "metadata": {},
   "outputs": [],
   "source": [
    "# This is the url you will scrape in this exercise\n",
    "url5 = 'http://uscode.house.gov/download/download.shtml'"
   ]
  },
  {
   "cell_type": "code",
   "execution_count": 24,
   "metadata": {},
   "outputs": [
    {
     "data": {
      "text/plain": [
       "b'<?xml version=\\'1.0\\' encoding=\\'UTF-8\\' ?>\\n<!DOCTYPE html PUBLIC \"-//W3C//DTD XHTML 1.0 Transitional//EN\" \"http://www.w3.org/TR/xhtml1/DTD/xhtml1-transitional.dtd\">\\n<html xmlns=\"http://www.w3.org/1999/xhtml\"><head>\\n        <meta http-equiv=\"Content-Type\" content=\"text/html; charset=UTF-8\" />\\n        <meta http-equiv=\"X-UA-Compatible\" content=\"IE=8\" />\\n        <meta http-equiv=\"pragma\" content=\"no-cache\" /><!-- HTTP 1.0 -->\\n        <meta http-equiv=\"cache-control\" content=\"no-cache,must-revalidate\" /><!-- HTTP 1.1 -->\\n        <meta http-equiv=\"expires\" content=\"0\" />\\n        <link rel=\"shortcut icon\" href=\"/javax.faces.resource/favicon.ico.xhtml?ln=images\" /><link type=\"text/css\" rel=\"stylesheet\" href=\"/javax.faces.resource/cssLayout.css.xhtml?ln=css\" /><script type=\"text/javascript\" src=\"/javax.faces.resource/jsf.js.xhtml?ln=javax.faces\"></script><link type=\"text/css\" rel=\"stylesheet\" href=\"/javax.faces.resource/static.css.xhtml?ln=css\" /></head><body><script type=\"text/javascript\" src=\"/'"
      ]
     },
     "execution_count": 24,
     "metadata": {},
     "output_type": "execute_result"
    }
   ],
   "source": [
    "html=req.get(url5).content\n",
    "html[:1000]"
   ]
  },
  {
   "cell_type": "code",
   "execution_count": 25,
   "metadata": {},
   "outputs": [
    {
     "name": "stdout",
     "output_type": "stream",
     "text": [
      "[<div class=\"usctitlechanged\" id=\"us/usc/t12\">\n",
      "\n",
      "          Title 12 - Banks and Banking\n",
      "\n",
      "        </div>, <div class=\"usctitlechanged\" id=\"us/usc/t19\">\n",
      "\n",
      "          Title 19 - Customs Duties\n",
      "\n",
      "        </div>, <div class=\"usctitlechanged\" id=\"us/usc/t22\">\n",
      "\n",
      "          Title 22 - Foreign Relations and Intercourse\n",
      "\n",
      "        </div>]\n"
     ]
    }
   ],
   "source": [
    "sopa5=bs(html,'html.parser')\n",
    "link=sopa5.find_all('div',{'class':'usctitlechanged'})\n",
    "print(link)"
   ]
  },
  {
   "cell_type": "markdown",
   "metadata": {},
   "source": [
    "#### A Python list with the top ten FBI's Most Wanted names "
   ]
  },
  {
   "cell_type": "code",
   "execution_count": 27,
   "metadata": {},
   "outputs": [],
   "source": [
    "# This is the url you will scrape in this exercise\n",
    "url6= 'https://www.fbi.gov/wanted/topten'"
   ]
  },
  {
   "cell_type": "code",
   "execution_count": 28,
   "metadata": {},
   "outputs": [
    {
     "data": {
      "text/plain": [
       "b'<!DOCTYPE html>\\n<html lang=\"en\" data-gridsystem=\"bs3\">\\n<head>\\n<meta charset=\"utf-8\">\\n<meta http-equiv=\"x-ua-compatible\" content=\"ie=edge\">\\n<meta name=\"viewport\" content=\"width=device-width, initial-scale=1.0\">\\n<link rel=\"canonical\" href=\"https://www.fbi.gov/wanted/topten\">\\n<link rel=\"alternate\" href=\"https://www.fbi.gov/wanted/topten/RSS\" title=\"Ten Most Wanted Fugitives - RSS 1.0\" type=\"application/rss+xml\">\\n<link rel=\"alternate\" href=\"https://www.fbi.gov/wanted/topten/rss.xml\" title=\"Ten Most Wanted Fugitives - RSS 2.0\" type=\"application/rss+xml\">\\n<link rel=\"alternate\" href=\"https://www.fbi.gov/wanted/topten/atom.xml\" title=\"Ten Most Wanted Fugitives - Atom\" type=\"application/rss+xml\">\\n<meta content=\"summary_large_image\" name=\"twitter:card\">\\n<meta content=\"Ten Most Wanted Fugitives | Federal Bureau of Investigation\" name=\"twitter:title\">\\n<meta content=\"Federal Bureau of Investigation\" property=\"og:site_name\">\\n<meta content=\"Ten Most Wanted Fugitives | Federal Bureau of Investigation\"'"
      ]
     },
     "execution_count": 28,
     "metadata": {},
     "output_type": "execute_result"
    }
   ],
   "source": [
    "html=req.get(url6).content\n",
    "html[:1000]"
   ]
  },
  {
   "cell_type": "code",
   "execution_count": 29,
   "metadata": {},
   "outputs": [
    {
     "data": {
      "text/plain": [
       "[<h3 class=\"title\">\n",
       " <a href=\"https://www.fbi.gov/wanted/topten/rafael-caro-quintero\">RAFAEL CARO-QUINTERO</a>\n",
       " </h3>,\n",
       " <h3 class=\"title\">\n",
       " <a href=\"https://www.fbi.gov/wanted/topten/yulan-adonay-archaga-carias\">YULAN ADONAY ARCHAGA CARIAS</a>\n",
       " </h3>,\n",
       " <h3 class=\"title\">\n",
       " <a href=\"https://www.fbi.gov/wanted/topten/eugene-palmer\">EUGENE PALMER</a>\n",
       " </h3>,\n",
       " <h3 class=\"title\">\n",
       " <a href=\"https://www.fbi.gov/wanted/topten/bhadreshkumar-chetanbhai-patel\">BHADRESHKUMAR CHETANBHAI PATEL</a>\n",
       " </h3>,\n",
       " <h3 class=\"title\">\n",
       " <a href=\"https://www.fbi.gov/wanted/topten/alejandro-castillo\">ALEJANDRO ROSALES CASTILLO</a>\n",
       " </h3>]"
      ]
     },
     "execution_count": 29,
     "metadata": {},
     "output_type": "execute_result"
    }
   ],
   "source": [
    "sopa6=bs(html,'html.parser')\n",
    "wanted=sopa6.find_all('h3',{'class':'title'})\n",
    "wanted[:5]"
   ]
  },
  {
   "cell_type": "code",
   "execution_count": 30,
   "metadata": {},
   "outputs": [
    {
     "data": {
      "text/plain": [
       "['RAFAEL CARO-QUINTERO',\n",
       " 'YULAN ADONAY ARCHAGA CARIAS',\n",
       " 'EUGENE PALMER',\n",
       " 'BHADRESHKUMAR CHETANBHAI PATEL',\n",
       " 'ALEJANDRO ROSALES CASTILLO',\n",
       " 'ARNOLDO JIMENEZ',\n",
       " 'JASON DEREK BROWN',\n",
       " 'ALEXIS FLORES',\n",
       " 'JOSE RODOLFO VILLARREAL-HERNANDEZ',\n",
       " 'OCTAVIANO JUAREZ-CORRO']"
      ]
     },
     "execution_count": 30,
     "metadata": {},
     "output_type": "execute_result"
    }
   ],
   "source": [
    "conex=[l.text.replace('\\n','') for l in wanted]\n",
    "conex    "
   ]
  },
  {
   "cell_type": "markdown",
   "metadata": {},
   "source": [
    "####  20 latest earthquakes info (date, time, latitude, longitude and region name) by the EMSC as a pandas dataframe"
   ]
  },
  {
   "cell_type": "code",
   "execution_count": 31,
   "metadata": {},
   "outputs": [],
   "source": [
    "# This is the url you will scrape in this exercise\n",
    "url = 'https://www.emsc-csem.org/Earthquake/'"
   ]
  },
  {
   "cell_type": "code",
   "execution_count": 32,
   "metadata": {},
   "outputs": [],
   "source": [
    "#your code"
   ]
  },
  {
   "cell_type": "markdown",
   "metadata": {},
   "source": [
    "#### Display the date, days, title, city, country of next 25 hackathon events as a Pandas dataframe table"
   ]
  },
  {
   "cell_type": "code",
   "execution_count": 33,
   "metadata": {},
   "outputs": [],
   "source": [
    "# This is the url you will scrape in this exercise\n",
    "url ='https://hackevents.co/hackathons'"
   ]
  },
  {
   "cell_type": "code",
   "execution_count": 34,
   "metadata": {},
   "outputs": [],
   "source": [
    "#your code"
   ]
  },
  {
   "cell_type": "markdown",
   "metadata": {},
   "source": [
    "#### Count number of tweets by a given Twitter account."
   ]
  },
  {
   "cell_type": "markdown",
   "metadata": {},
   "source": [
    "You will need to include a ***try/except block*** for account names not found. \n",
    "<br>***Hint:*** the program should count the number of tweets for any provided account"
   ]
  },
  {
   "cell_type": "code",
   "execution_count": 35,
   "metadata": {},
   "outputs": [],
   "source": [
    "# This is the url you will scrape in this exercise \n",
    "# You will need to add the account credentials to this url\n",
    "url = 'https://twitter.com/'"
   ]
  },
  {
   "cell_type": "code",
   "execution_count": 36,
   "metadata": {},
   "outputs": [],
   "source": [
    "#your code"
   ]
  },
  {
   "cell_type": "markdown",
   "metadata": {},
   "source": [
    "#### Number of followers of a given twitter account"
   ]
  },
  {
   "cell_type": "markdown",
   "metadata": {},
   "source": [
    "You will need to include a ***try/except block*** in case account/s name not found. \n",
    "<br>***Hint:*** the program should count the followers for any provided account"
   ]
  },
  {
   "cell_type": "code",
   "execution_count": 37,
   "metadata": {},
   "outputs": [],
   "source": [
    "# This is the url you will scrape in this exercise \n",
    "# You will need to add the account credentials to this url\n",
    "url = 'https://twitter.com/'"
   ]
  },
  {
   "cell_type": "code",
   "execution_count": 38,
   "metadata": {},
   "outputs": [],
   "source": [
    "#your code"
   ]
  },
  {
   "cell_type": "markdown",
   "metadata": {},
   "source": [
    "#### List all language names and number of related articles in the order they appear in wikipedia.org"
   ]
  },
  {
   "cell_type": "code",
   "execution_count": 39,
   "metadata": {},
   "outputs": [],
   "source": [
    "# This is the url you will scrape in this exercise\n",
    "url = 'https://www.wikipedia.org/'"
   ]
  },
  {
   "cell_type": "code",
   "execution_count": 40,
   "metadata": {},
   "outputs": [],
   "source": [
    "#your code"
   ]
  },
  {
   "cell_type": "markdown",
   "metadata": {},
   "source": [
    "#### A list with the different kind of datasets available in data.gov.uk "
   ]
  },
  {
   "cell_type": "code",
   "execution_count": 41,
   "metadata": {},
   "outputs": [],
   "source": [
    "# This is the url you will scrape in this exercise\n",
    "url = 'https://data.gov.uk/'"
   ]
  },
  {
   "cell_type": "code",
   "execution_count": 42,
   "metadata": {},
   "outputs": [],
   "source": [
    "#your code "
   ]
  },
  {
   "cell_type": "markdown",
   "metadata": {},
   "source": [
    "#### Top 10 languages by number of native speakers stored in a Pandas Dataframe"
   ]
  },
  {
   "cell_type": "code",
   "execution_count": 43,
   "metadata": {},
   "outputs": [],
   "source": [
    "# This is the url you will scrape in this exercise\n",
    "url = 'https://en.wikipedia.org/wiki/List_of_languages_by_number_of_native_speakers'"
   ]
  },
  {
   "cell_type": "code",
   "execution_count": 44,
   "metadata": {},
   "outputs": [],
   "source": [
    "#your code"
   ]
  },
  {
   "cell_type": "markdown",
   "metadata": {},
   "source": [
    "### BONUS QUESTIONS"
   ]
  },
  {
   "cell_type": "markdown",
   "metadata": {},
   "source": [
    "#### Scrape a certain number of tweets of a given Twitter account."
   ]
  },
  {
   "cell_type": "code",
   "execution_count": 45,
   "metadata": {},
   "outputs": [],
   "source": [
    "# This is the url you will scrape in this exercise \n",
    "# You will need to add the account credentials to this url\n",
    "url = 'https://twitter.com/'"
   ]
  },
  {
   "cell_type": "code",
   "execution_count": 46,
   "metadata": {},
   "outputs": [],
   "source": [
    "# your code"
   ]
  },
  {
   "cell_type": "markdown",
   "metadata": {},
   "source": [
    "#### IMDB's Top 250 data (movie name, Initial release, director name and stars) as a pandas dataframe"
   ]
  },
  {
   "cell_type": "code",
   "execution_count": 47,
   "metadata": {},
   "outputs": [],
   "source": [
    "# This is the url you will scrape in this exercise \n",
    "url = 'https://www.imdb.com/chart/top'"
   ]
  },
  {
   "cell_type": "code",
   "execution_count": 48,
   "metadata": {},
   "outputs": [],
   "source": [
    "# your code"
   ]
  },
  {
   "cell_type": "markdown",
   "metadata": {},
   "source": [
    "#### Movie name, year and a brief summary of the top 10 random movies (IMDB) as a pandas dataframe."
   ]
  },
  {
   "cell_type": "code",
   "execution_count": 49,
   "metadata": {},
   "outputs": [],
   "source": [
    "#This is the url you will scrape in this exercise\n",
    "url = 'http://www.imdb.com/chart/top'"
   ]
  },
  {
   "cell_type": "code",
   "execution_count": 50,
   "metadata": {},
   "outputs": [],
   "source": [
    "#your code"
   ]
  },
  {
   "cell_type": "markdown",
   "metadata": {},
   "source": [
    "#### Find the live weather report (temperature, wind speed, description and weather) of a given city."
   ]
  },
  {
   "cell_type": "code",
   "execution_count": null,
   "metadata": {},
   "outputs": [],
   "source": [
    "#https://openweathermap.org/current\n",
    "city = city=input('Enter the city:')\n",
    "url = 'http://api.openweathermap.org/data/2.5/weather?'+'q='+city+'&APPID=b35975e18dc93725acb092f7272cc6b8&units=metric'"
   ]
  },
  {
   "cell_type": "code",
   "execution_count": null,
   "metadata": {},
   "outputs": [],
   "source": [
    "# your code"
   ]
  },
  {
   "cell_type": "markdown",
   "metadata": {},
   "source": [
    "#### Book name,price and stock availability as a pandas dataframe."
   ]
  },
  {
   "cell_type": "code",
   "execution_count": null,
   "metadata": {},
   "outputs": [],
   "source": [
    "# This is the url you will scrape in this exercise. \n",
    "# It is a fictional bookstore created to be scraped. \n",
    "url = 'http://books.toscrape.com/'"
   ]
  },
  {
   "cell_type": "code",
   "execution_count": null,
   "metadata": {},
   "outputs": [],
   "source": [
    "#your code"
   ]
  }
 ],
 "metadata": {
  "kernelspec": {
   "display_name": "Python 3 (ipykernel)",
   "language": "python",
   "name": "python3"
  },
  "language_info": {
   "codemirror_mode": {
    "name": "ipython",
    "version": 3
   },
   "file_extension": ".py",
   "mimetype": "text/x-python",
   "name": "python",
   "nbconvert_exporter": "python",
   "pygments_lexer": "ipython3",
   "version": "3.9.7"
  }
 },
 "nbformat": 4,
 "nbformat_minor": 2
}
